{
  "nbformat": 4,
  "nbformat_minor": 0,
  "metadata": {
    "colab": {
      "provenance": []
    },
    "kernelspec": {
      "name": "python3",
      "display_name": "Python 3"
    },
    "language_info": {
      "name": "python"
    }
  },
  "cells": [
    {
      "cell_type": "markdown",
      "source": [
        "# **<center>SQL interview Preparation</center>**\n",
        "* **6 important SQL questions for goods handson including joins, filter, cte and windows function**\n",
        "\n"
      ],
      "metadata": {
        "id": "MLtiembBBN6E"
      }
    },
    {
      "cell_type": "code",
      "source": [
        "#  Installing db-sqlite3 \n",
        "# !pip install db-sqlite3"
      ],
      "metadata": {
        "id": "DRFfVnVl6_qK"
      },
      "execution_count": 1,
      "outputs": []
    },
    {
      "cell_type": "code",
      "source": [
        "import pandas as pd\n",
        "import sqlite3\n",
        "from datetime import date"
      ],
      "metadata": {
        "id": "7sNZTiu96_th"
      },
      "execution_count": 2,
      "outputs": []
    },
    {
      "cell_type": "code",
      "source": [
        "#connecting and creating with the database.\n",
        "db = sqlite3.connect(\"testing.db\")\n",
        "db.execute(\"drop table if exists results\")"
      ],
      "metadata": {
        "colab": {
          "base_uri": "https://localhost:8080/"
        },
        "id": "oMcf-6PM3cvJ",
        "outputId": "398399f5-5d08-42c0-cee2-9d45ac083b3d"
      },
      "execution_count": 3,
      "outputs": [
        {
          "output_type": "execute_result",
          "data": {
            "text/plain": [
              "<sqlite3.Cursor at 0x7f2e87f935e0>"
            ]
          },
          "metadata": {},
          "execution_count": 3
        }
      ]
    },
    {
      "cell_type": "markdown",
      "source": [
        "## **1. Amazon Prime Subscription Rate**\n",
        "* **Prime subscription rate by product action**\n",
        "* *Given the following two tables, return the fraction of users, rounded to two decimal places who accessed Amazon music and upgraded to prime membership within the first 30 days of sigining up* "
      ],
      "metadata": {
        "id": "3rqKVf-18NJJ"
      }
    },
    {
      "cell_type": "code",
      "source": [
        "# Create table\n",
        "try:\n",
        "  db.execute(\"\"\"\n",
        "  create table users\n",
        "  (\n",
        "  user_id integer,\n",
        "  name varchar(20),\n",
        "  join_date date\n",
        "  )\"\"\")\n",
        "  db.execute(\"\"\"\n",
        "  create table events\n",
        "  (\n",
        "  user_id integer,\n",
        "  type varchar(10),\n",
        "  access_date date\n",
        "  )\"\"\")\n",
        "except:\n",
        "  print(\"Already table existed !!\")\n",
        "# Insert values\n",
        "users = [\"\"\"\n",
        "insert into users values \n",
        "(1, 'Jon', '2020-02-14'), \n",
        "(2, 'Jane', '2020-02-14'), \n",
        "(3, 'Jill', '2020-02-15'), \n",
        "(4, 'Josh', '2020-02-15'), \n",
        "(5, 'Jean', '2020-02-16'), \n",
        "(6, 'Justin', '2020-02-17'),\n",
        "(7, 'Jeremy', '2020-02-18')\"\"\"]\n",
        "for i in users:\n",
        "  db.execute(i)\n",
        "  db.commit()\n",
        "\n",
        "\n",
        "events = [\"\"\"\n",
        "insert into events values\n",
        "(1, 'Pay', '2020-03-01'), \n",
        "(2, 'Music', '2020-03-02'), \n",
        "(2, 'P', '2020-03-12'),\n",
        "(3, 'Music', '2020-03-15'), \n",
        "(4, 'Music', '2020-03-15'), \n",
        "(1, 'P', '2020-03-16'), \n",
        "(3, 'P', '2020-03-22')\n",
        "\"\"\"]\n",
        "for i in events:\n",
        "  db.execute(i)\n",
        "  db.commit()"
      ],
      "metadata": {
        "id": "xdo1z8zI5JPU"
      },
      "execution_count": 4,
      "outputs": []
    },
    {
      "cell_type": "code",
      "source": [
        "qry = \"\"\"\n",
        "select * from users;\n",
        "\"\"\"\n",
        "print(\"----------------------------------------\")\n",
        "print(pd.read_sql_query(qry, db))\n",
        "\n",
        "qry = \"\"\"\n",
        "select * from events;\n",
        "\"\"\"\n",
        "print(\"----------------------------------------\")\n",
        "print(pd.read_sql_query(qry, db))\n",
        "print(\"----------------------------------------\")"
      ],
      "metadata": {
        "colab": {
          "base_uri": "https://localhost:8080/"
        },
        "id": "Hb53vfGu6JmY",
        "outputId": "9cdbd7c6-7dff-4704-f683-d9b3dd1f4653"
      },
      "execution_count": 5,
      "outputs": [
        {
          "output_type": "stream",
          "name": "stdout",
          "text": [
            "----------------------------------------\n",
            "   user_id    name   join_date\n",
            "0        1     Jon  2020-02-14\n",
            "1        2    Jane  2020-02-14\n",
            "2        3    Jill  2020-02-15\n",
            "3        4    Josh  2020-02-15\n",
            "4        5    Jean  2020-02-16\n",
            "5        6  Justin  2020-02-17\n",
            "6        7  Jeremy  2020-02-18\n",
            "----------------------------------------\n",
            "   user_id   type access_date\n",
            "0        1    Pay  2020-03-01\n",
            "1        2  Music  2020-03-02\n",
            "2        2      P  2020-03-12\n",
            "3        3  Music  2020-03-15\n",
            "4        4  Music  2020-03-15\n",
            "5        1      P  2020-03-16\n",
            "6        3      P  2020-03-22\n",
            "----------------------------------------\n"
          ]
        }
      ]
    },
    {
      "cell_type": "markdown",
      "source": [
        "**Expected Output:**\n",
        "\n",
        "![image.png](data:image/png;base64,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)"
      ],
      "metadata": {
        "id": "_NMCNLjJ6FEP"
      }
    },
    {
      "cell_type": "code",
      "source": [
        "qry = \"\"\"\n",
        "select \n",
        "count(distinct u.user_id) as total_users,\n",
        "count(distinct case when ABS(JULIANDAY(u.join_date)-JULIANDAY(e.access_date)) <= 30 then u.user_id end) as prime_users,\n",
        "1.0*count(distinct case when ABS(JULIANDAY(u.join_date)-JULIANDAY(e.access_date)) <= 30 then u.user_id end)/count(distinct u.user_id)*100 as percentage\n",
        "from users u\n",
        "left join events e\n",
        "on u.user_id = e.user_id and e.type = 'P'\n",
        "where u.user_id in (select user_id from events where type = 'Music')\n",
        "\"\"\"\n",
        "print(\"----------------------------------------\")\n",
        "print(pd.read_sql_query(qry, db))\n",
        "print(\"----------------------------------------\")"
      ],
      "metadata": {
        "colab": {
          "base_uri": "https://localhost:8080/"
        },
        "id": "3Aoxck3x04lc",
        "outputId": "32fe7b9a-63bd-41d4-c456-c7cf822b73b8"
      },
      "execution_count": 6,
      "outputs": [
        {
          "output_type": "stream",
          "name": "stdout",
          "text": [
            "----------------------------------------\n",
            "   total_users  prime_users  percentage\n",
            "0            3            1   33.333333\n",
            "----------------------------------------\n"
          ]
        }
      ]
    },
    {
      "cell_type": "markdown",
      "source": [
        "## **2. Customer Retention Analysis**\n",
        "* **Customer Retention**: \n",
        "  * *It refers to a company's ability to turn customers into repeat buyers and prevent them from switching to a competitor*\n",
        "  * *It indicates whether your product and the quality  of your service please yuur existing customers*\n",
        "  * *Retention period can be different for different industry*\n",
        "\n",
        "* Example:\n",
        "  * Jan -  0\n",
        "  * Feb  - 1,2,3 = count of retention => 3  \n"
      ],
      "metadata": {
        "id": "9ZuDhVK_Axgr"
      }
    },
    {
      "cell_type": "code",
      "source": [
        "# Create table\n",
        "try:\n",
        "  db.execute(\"\"\"\n",
        "  create table transactions(\n",
        "  order_id int,\n",
        "  cust_id int,\n",
        "  order_date date,\n",
        "  amount int\n",
        "  )\"\"\")\n",
        "\n",
        "except:\n",
        "  print(\"Already table existed !!\")\n",
        "\n",
        "# Insert values\n",
        "input_transactions = [ \"\"\"\n",
        "insert into transactions values \n",
        "(1,1,'2020-01-15',150),\n",
        "(2,1,'2020-02-10',150),\n",
        "(3,2,'2020-01-16',150),\n",
        "(4,2,'2020-02-25',150),\n",
        "(5,3,'2020-01-10',150),\n",
        "(6,3,'2020-02-20',150),\n",
        "(7,4,'2020-01-20',150),\n",
        "(8,5,'2020-02-20',150)\"\"\"]\n",
        "db.execute(input_transactions[0])"
      ],
      "metadata": {
        "id": "JHO_g5guAskU",
        "colab": {
          "base_uri": "https://localhost:8080/"
        },
        "outputId": "baf98d5e-c3f2-4933-f04c-c9695b11273c"
      },
      "execution_count": 7,
      "outputs": [
        {
          "output_type": "execute_result",
          "data": {
            "text/plain": [
              "<sqlite3.Cursor at 0x7f2e87f4e2d0>"
            ]
          },
          "metadata": {},
          "execution_count": 7
        }
      ]
    },
    {
      "cell_type": "code",
      "source": [
        "qry = \"\"\"\n",
        "select * from transactions;\n",
        "\"\"\"\n",
        "print(\"--------------------------------------------\")\n",
        "print(pd.read_sql_query(qry, db))\n",
        "print(\"--------------------------------------------\")\n",
        "print(pd.read_sql_query(qry, db))\n",
        "print(\"--------------------------------------------\")"
      ],
      "metadata": {
        "colab": {
          "base_uri": "https://localhost:8080/"
        },
        "id": "Yyll2uiUCULD",
        "outputId": "79178dbd-9a36-4529-ccea-d8ec85699b8e"
      },
      "execution_count": 8,
      "outputs": [
        {
          "output_type": "stream",
          "name": "stdout",
          "text": [
            "--------------------------------------------\n",
            "   order_id  cust_id  order_date  amount\n",
            "0         1        1  2020-01-15     150\n",
            "1         2        1  2020-02-10     150\n",
            "2         3        2  2020-01-16     150\n",
            "3         4        2  2020-02-25     150\n",
            "4         5        3  2020-01-10     150\n",
            "5         6        3  2020-02-20     150\n",
            "6         7        4  2020-01-20     150\n",
            "7         8        5  2020-02-20     150\n",
            "--------------------------------------------\n",
            "   order_id  cust_id  order_date  amount\n",
            "0         1        1  2020-01-15     150\n",
            "1         2        1  2020-02-10     150\n",
            "2         3        2  2020-01-16     150\n",
            "3         4        2  2020-02-25     150\n",
            "4         5        3  2020-01-10     150\n",
            "5         6        3  2020-02-20     150\n",
            "6         7        4  2020-01-20     150\n",
            "7         8        5  2020-02-20     150\n",
            "--------------------------------------------\n"
          ]
        }
      ]
    },
    {
      "cell_type": "markdown",
      "source": [
        "**Expected Output:**\n",
        "\n",
        "![image.png](data:image/png;base64,iVBORw0KGgoAAAANSUhEUgAAASUAAABNCAYAAADgt3L0AAAAAXNSR0IArs4c6QAAAARnQU1BAACxjwv8YQUAAAAJcEhZcwAADsMAAA7DAcdvqGQAAApbSURBVHhe7Z15qE1fG8eX9zXPU8hwkXnMPJNZIVOSkvxBkZL4Q0rx8g/5g5BCJKXMlEQXiWRIiDJlHiLzPFPe32e567Tvds85+zjn3Lv4fT91cvbeZ6/1rGet9ay1nrvWo1i3bt1+GCGE8IT/5P0rhBBeIKMkhPAKGSUhhFfIKAkhvEJGSQjhFTJKQgivkFESQniFjJIQwitklIQQXhF5R/egQYPM2LFjTfHixe31x48fzZo1a8zly5ft9bhx48yQIUPsd3jx4oVZsWKFefjwob1esGCBycnJsd/hwoULZtWqVfZ7NtOuU6eOmTlzpqlWrZq9htzcXLN9+3b7PVne2Uw7UbmymTakU66irA/p7CeplKuo6gMS5R0vbR0zEUJ4hZZvQgivkFESQniFjJIQwitklIQQXiGjJITwChklIYRXyCgJIbxCRkkI4RUySkIIr5BREkJ4xV9vlGbMmGHP32QCzuosX77ctGrVKu+OiAd637Bhgz0blS04t7V06dKs5iEKn7/CKPlsLDCIdNA/DTo6HZ6OL6IhnWUGLd9EVuAk+OTJk2OnzYWIStajBDBqTJ8+3bx8+dK0bNnS3L9/394nnIELkcAMZ9q0aaZs2bL2WTD8Ac8mTZpkzp49awYMGGDDHLjnlStXzvee4/v372bnzp3m0KFDdpZStWpVe9+FUAiGZkhGODRDOHQD6bdr185+D+fr7geh/AsXLrTfw+UOhnVIBxeOAp21aNHCljsoGwTLFXwWDifhCJY7LHe8MoXzBDdrpE4Kqg8nuwulEUwbwnlDOvXpdE66U6ZMMfv374/JyyyXduvqJN67UXQW/o0rV5T+AcH2FG6DTk5wvwm+G09uX/lv3bp1/5f3PStUrFjR9OjRw5QvX94cPHjQdOzY0dy7d888fvzYKv7mzZtm6tSp5s6dO2bevHnm3Llz5h9Dadq0aWOOHTtmatSoYbp3727q169vVq9ebU6dOmWvf/z4YY4ePWoOHDhgPn36ZNPi+fr1682+ffvM7du3bf5du3Y1zZo1i6VPOnTUK1eumHfv3tnfxIOGNHjwYLNr1y67PCSfRo0amfPnz5tnz57Z5xUqVLCNYu/evaZhw4amffv2Nu3Dhw/be1y7vLmmTEBjDJb71q1btuGQnmtsvws6dzp06aP3evXq2fzD5aKDc02HOH36tNVf6dKlTZUqVcySJUvM5s2brZ4pM0ycONFs27bN6hq5+/TpE5Ob3/Bb7pP/jRs3YnUB1AcdJ159zJ4923z79s3+S1vo3bu3ad68uTlz5swvOuN527ZtzaNHjyLpjM7JwEZnpdzUB+kC7axDhw755O3bt6+tc36D0Ro5cqTZs2fPL+/y+0Q6490JEybY9rp48eKYzho3bmyuXr2asH9QX8iNbBgSdM57vO90hpy08a9fv1q9BXVKGvHk9pVCW74xan/+/Nla+SNHjuTdNaZnz56mTJkysXvMjhipmAVRmcCIizJpeHyeP39uatasaZ9Fgc7mRoZr166ZEiVK2PSTQWO5fv16vpE+CPfXrVuXd5Va2oyKdL7du3fba8pFXjSmTBEsN42/XLlytmPTyYPlOnHihO18Tt/JWLZsWcwIZLI+yB8ZmV0BbYF2gzFFbtoKOJ2lAu936tTJXLp0KW59JoNZDrpLlf79+1v9omdAZ8ePH7flwhhCvP4BtAl+73TOc3RGG3KwesBgQbgd/q7cRYUXPiUq7PXr13lXfw40dByb/JWJz/jx43+ZwseDEbVWrVpm0aJFsfcLWu6lA4bIwexgzpw5tqOzdCIvly8yBCMPJoOR273Lh9E4E9SuXdtUqlTJjvYu7eCyIx3ooAx+T548ybuTGhgEBsbWrVtbuTCqUY04fPjwIRaNMRVoYxhq9OB0gn6Cy1d48OBBLH2M7qxZs6zM6cpdFHhhlGgswdkFHTZq5y5K8EHA/PnzrVN369atdlYXFUY39677BP0n2QS/QjBfPs4HkQiWfiyB8Fm495wfJBMwU2AmFpTLGdN0YNBj8EsHOjvLR2RipolvK2oHd7NURyozSwjqmw9yRJ3xpSN3UVDkRslNSfv/M8UFN81Gee5ZMvApYMQyrWich27pQNojRoz4xVi6EZDf0GHDz4NpBKFsGOMxY8bk3Sk8mEExciJvPF69emXlCy4RHPgueA7MmjI1U8IHwpIWh3BBhGViUIg6w6OOmE3go4rXTqg7BkTAsZyoXAXNuOLpjOUUM0C3/CT/pk2b2iXb06dP7b14RJE7FX53pliYFIqjG6crhoM1c5MmTayjGKcwFbhjxw470jI9pTH269fP+ihYFkEyByTgTMTRSho49YYNG2a+fPlif49jlXycgxlHtZPBOW7jQYNAdtLr3LmzdVQiz8WLF+27JUuWtOmPHj3ayn337l3rsAymHUwD2XB8IwvPg+XmGR+cpVGNcTyCOi8oLe4x/R81alQsXwwU8ji50R0O1YEDB+Z7jiO8S5cutoNxn0789u1b8/79e1sfGCmWF/wxolSpUtb4Ra0PHMAYJjogS2EnG45b0g7LhMMbA0l7iaIz0uB96iucNuUOtiHSffPmTayduXK59xo0aGCdx+jDkUhnlH/48OE2b3SDvBs3bkzaP9BTQXL36tUrn6M72B+CRJHbN/QfBwghvEKbJ4UQXvGvnSmxPg9vwgvCtLuwnM4ifdgrFs8HFN5sKPxGyzchhFdo+SaE8AoZJSGEV8goCSG8QkZJCOEVkR3d7EhOFFJC/EoynbGxjc16UFCYDyHShQ2cwZApwbBAvhJ5Rze7Ql1IiWDohYJ2kYqfJNIZWxKGDh1q/1TN6W528BKVAMPldlULkS7sMiesCody+dDGOCHhdtT7SKTlG9a2evXq5uTJk/aa/R6cTSvoTJf4STKdcc1BU7d3hvNRwEl5IbKFCwbnM5GMEuebOFvDWRtg2UHoC87mRIkd9G9EOhO+wWDIoBgMaeMjKTm6mfatXbvWHpjcsmWL9YNoZE9MFJ3RWJhZcbBUPiWRaRgQiaVE3CxwweZ8JbJRwllLyNSVK1fasA7FihWz9zndLAomqs5cXCYXOVCITEKcLBeHiXApc+fOzUgYlGwRySgRJ4bzQy4kLbA8wYn7J0aMLAyi6owzW/ieNm3a5PVfRMTfAW3R9xVOJKOEXwT/CEsMlhp8CMQWDMEp8hNFZ84g6bCoKCwIpsjA6HydPvLb+5R8/29afCCRzjBWwf0jDu3/EpkkuBcO/oR9SooSIITwipT++iaEENlGRkkI4RUySkIIr5BREkJ4hYySEMIrZJSEEF4hoySE8AoZJSGEV8goCSG8QkZJCOEVMkpCCK+QURJCeIWMkhDCKyJHCQiH2iCAWTAOULIQCcQOysnJsd8hURiPTKYdDh8Cubm5NhofJMs7m2knKlc204Z0ylWU9SGd/SSVchVVfUCivOOlrdAlQgiv0PJNCOEVMkpCCK+QURJCeIWMkhDCK2SUhBBeIaMkhPAKGSUhhFfIKAkhvEJGSQjhFTJKQgivkFESQniFjJIQwiOM+T92PDgEI3RmgAAAAABJRU5ErkJggg==)"
      ],
      "metadata": {
        "id": "fATTq77LGABm"
      }
    },
    {
      "cell_type": "code",
      "source": [
        "qry = \"\"\" \n",
        "with cte1 as(\n",
        "select \n",
        "strftime('%m', this_month.order_date) as month_date,\n",
        "count(distinct last_month.cust_id) as repeat_customers\n",
        "from transactions this_month\n",
        "left join transactions last_month\n",
        "on this_month.cust_id = last_month.cust_id\n",
        "and abs(strftime('%m', this_month.order_date) - strftime('%m', last_month.order_date)) = 1 \n",
        "group by strftime('%m', this_month.order_date)\n",
        ")\n",
        "select * from cte1 where month_date != '01' \n",
        "\"\"\"\n",
        "print(\"--------------------------------------------\")\n",
        "print(pd.read_sql_query(qry, db))\n",
        "print(\"--------------------------------------------\")"
      ],
      "metadata": {
        "colab": {
          "base_uri": "https://localhost:8080/"
        },
        "id": "u2-gXzJkCUMY",
        "outputId": "f8c91af2-ee78-4a44-817e-d2c87300b5c8"
      },
      "execution_count": 9,
      "outputs": [
        {
          "output_type": "stream",
          "name": "stdout",
          "text": [
            "--------------------------------------------\n",
            "  month_date  repeat_customers\n",
            "0         02                 3\n",
            "--------------------------------------------\n"
          ]
        }
      ]
    },
    {
      "cell_type": "markdown",
      "source": [
        "## **3. Churn Analysis**"
      ],
      "metadata": {
        "id": "j6wnejd2JtDy"
      }
    },
    {
      "cell_type": "code",
      "source": [
        "# We are using same table for Retentuon analysis\n",
        "qry = \"\"\"\n",
        "select * from transactions;\n",
        "\"\"\"\n",
        "print(\"--------------------------------------------\")\n",
        "print(pd.read_sql_query(qry, db))\n",
        "print(\"--------------------------------------------\")"
      ],
      "metadata": {
        "id": "UX4y-fnHJtDz",
        "colab": {
          "base_uri": "https://localhost:8080/"
        },
        "outputId": "b3c12b75-9230-4aa8-d2af-eb6466b2bfc9"
      },
      "execution_count": 10,
      "outputs": [
        {
          "output_type": "stream",
          "name": "stdout",
          "text": [
            "--------------------------------------------\n",
            "   order_id  cust_id  order_date  amount\n",
            "0         1        1  2020-01-15     150\n",
            "1         2        1  2020-02-10     150\n",
            "2         3        2  2020-01-16     150\n",
            "3         4        2  2020-02-25     150\n",
            "4         5        3  2020-01-10     150\n",
            "5         6        3  2020-02-20     150\n",
            "6         7        4  2020-01-20     150\n",
            "7         8        5  2020-02-20     150\n",
            "--------------------------------------------\n"
          ]
        }
      ]
    },
    {
      "cell_type": "markdown",
      "source": [
        "**Expected Output:**\n",
        "\n",
        "![image.png](data:image/png;base64,iVBORw0KGgoAAAANSUhEUgAAAXsAAABLCAYAAACRMycSAAAAAXNSR0IArs4c6QAAAARnQU1BAACxjwv8YQUAAAAJcEhZcwAADsMAAA7DAcdvqGQAAAiHSURBVHhe7d07jE1dG8Dx5cso3OIahJhCIW6FiMIlGoJEoZCJ6BQkRIJEoTShUCjI0AyhUBERQSERoREqxSSuURISYhCJu+T7vv8ya+x3v3PmXObMhfX/JSdzzt7n7MvaZz1772fPfs6o5cuX/zdIkv5q/+n5K0n6ixnsJSkDBntJyoDBXpIyYLCXpAwY7CUpAwZ7ScqAwV6SMmCwl6QMGOwlKQN1l0tYt25daGtrCy0tLfH158+fQ2dnZ3j06FF8vWXLlrBhw4b4HN3d3aGjoyO8fPkyvm5vbw+tra3xObq6usLJkyfj88Gc9uzZs8O+ffvC1KlT42vcuHEjXLx4MT6vNu/BnHZ/6zWY08ZA1ms4t4dt9ks96zVc2wP9zXs4t8dwttlQszaOJGXANI4kZcBgL0kZMNhLUgYM9pKUAYO9JGXAYC9JGTDYS1IGDPaSlAGDvSRlIJtgv2fPnnjrczNwG/Tx48fDokWLeob8mbgN/ejRo/G2b0l/t78q2I/kIMyOhh2ORga3h3JjGkeSMjBkhdBIFezevTu8e/cuLFy4MDx//jwOp6JcqhTHEfmuXbvC2LFj47hidTvGbdu2Ldy/fz+sXbs2VpJL4ydNmvSPzyU/f/4Mly5dCjdv3oxHcVOmTInDUxW7YoW6asqV98oV7Jj+kiVL4vPyfNPwItb/0KFD8Xl5vYuV9ZqhvAxpvVmnZcuWhdevX8dtguK8U5ul5eTMaePGjeHMmTPhw4cPseIf22PBggWxTYvrzbQZzvZO8653vcptnj5Pe+3YsSNcv349zgscqTOv4rL3tc61bI9ytcI0rpbvMIrzKH5PUpXESm2GSussDdSQHtmPHj06zJgxI1y5ciXMmjUrdhq+zHzx6QgE82fPnoXt27eHgwcPxs/QqZMxY8aE1atXhxMnToRjx47F16tWrYodiQ524cKF8PHjxziOaezcubO3E4HOxTwZx3wJdLXkq+n8zJfp81n+0kkTxn/79i2O4/Hw4cM4jGnTURlGYGCe6T0psJTXm2WfN29e7PTNQLswvdQmPIo7OMqzjh8/Pg4nYPHeetJgBKbUpq9evQorV67sGfOrvdlZNDJt1p+dempzHrUGPdp+7ty5fa5zte3B8m3atCncunUrDmca06ZNi+2I/r7DYLmL7c12ZfsWv2eV2ox5r1ixoqF1lqoZ8jQORzVfv36NRzy3b9/uGRpi0CZ4p2EczROoOWpPAYIAe+3atRjcebx9+zZ2vFrRwVPnefr0aey4TL8aOiOdtrjjKGL46dOne17VN22OEH/8+BEuX74cX7NezCsFj4Gg3Qg8d+7cidPtC2dHHKmD99DGBLFaFdv0yZMnYdy4cb2BrdFp83l2xOw0K7V5NZwl1bpjKVqzZk348uVLuHv3bnzNctN+c+bMCdOnT4/DKn2HwXYrtjfj+S6kMyf012acTcyfPz8+l5ppROXs6WSkB/40dFT+q+Xs2bPxsXXr1t4UQDWTJ08OM2fODIcPH+79fF9phkakwPr+/fv4dzAQrBKOng8cOND7oxKNYifJjp/0UiPYQXBkzhE07Vnvfxx9+vSpoXVgHgTuNF8e+/fv/1d6sVKbsYPgYGbx4sXxs+wQGtlhSX0ZUcGeDl48GiYQ1ho0h1NKNZF64tS7nOaphiPg9Nn0SGmFgSBFUM9yjBTs8NnxDwRBNLUlwZtcea0Bv3ikjXrOHkHKqrgty+nE/vA+3s/nOMPjWo4BX80wYoJ9Ou1d8//TaNDZOJXnC5/GVUNwY+fQ7M5BfpXTeJaJaZPTLe+E0tEg7yFnXB5fnEYR68ZObvPmzT1DmodpEzjT9YNGpMBXab0HA+344sWLeJ2k0rZkOTgYAPl0rg9UQtuXVdoepOAmTpwY04pg/qTCSN28efMmDqukluWuR6NnNlJfRlSw578W6FicwpLWIIDWc4GKaZAvTafRp06dioFuoFI+nWXau3dvnEfxyPPevXsxZZKWm05aPqIuToP3pRu8yuudHs26QMsZAu1YTBPVOu3yej948GDIzhTY7uzoSYOk5U4XScvbmYvA5MET3pc+w4O2PXfu3D9SM5W2B0fW/HcMF4cZzvxZDs4UatHXcteaRmK7pM/wYBnSNSppoPwNWknKwIjK2UuSBkf2R/bkVvu6ISshPdCMi6X6jZRJpRx7+WY1Sc1hGkeSMmAaR5IyYLCXpAwY7CUpAwZ7ScqAwV6SMlD3f+NwJyB1RiiNC/81sbpa2ow7famhTskH2zNv3AFMMbxijXxpoOo+sqfoF7ffU6ipXOtbfavWZjwn2FOyWfnioIDSChMmTIj3G0jNVFewJyARqKgFA258oQ5IXwWl9Eu1NmM8nZsyt9+/f4/vUZ4ohkfBtatXr/YMkZqnrmBPlUEKgD1+/Di+pnATp5vl0sT6rVqbUXjryJEjcZzyRhE10zYaLA1doF26dGmsKEkp1/Pnz9f8C0Q5s80kDae6gz0XGdevXx9/B5Zc86hRo+JwLiyqb7aZpOFWV7Dn5+24cFSssU2agt9Q/RN/TnAo2GaSRoK6gj15Z/LPXFTk4iIPfk2KX+cp/jCEfrPNJI0EA/4/+66urrp+TSpH/bVZpRLL3r+QHy7e8+tbZf6/vZrBEseSlIGG/htHkvRnMdhLUgYM9pKUAYO9JGXAYC9JGTDYS1IGDPaSlAGDvSRlwGAvSRkw2EtSBgz2kpQBg70kZaDuQmiU6m1rawstLS3xNbXaOzs7e2u1lyv3dXd3h46Ojt5yvu3t7aG1tTU+R7EC5GBOu1x5EsVqgtXmPZjT7m+9BnPaGMh6Def2sM1+qWe9hmt7oL95D+f2GM42G2pWvZSkDJjGkaQMGOwlKQMGe0nKgMFekjJgsJekDBjsJSkDBntJyoDBXpIyYLCXpAwY7CXprxfC/wCcLQYzyoyYMgAAAABJRU5ErkJggg==)"
      ],
      "metadata": {
        "id": "OKXFYUEZMvD5"
      }
    },
    {
      "cell_type": "code",
      "source": [
        "qry = \"\"\" \n",
        "with cte1 as(\n",
        "select \n",
        "strftime('%m', last_month.order_date) as month_date,\n",
        "count(distinct last_month.cust_id) as churn_customers\n",
        "from transactions last_month\n",
        "left join transactions this_month\n",
        "on this_month.cust_id = last_month.cust_id\n",
        "and abs(strftime('%m', this_month.order_date) - strftime('%m', last_month.order_date)) = 1 \n",
        "where this_month.cust_id is null\n",
        "group by strftime('%m', last_month.order_date)\n",
        ")\n",
        "select * from cte1 where month_date != '02'  \n",
        " \n",
        "\"\"\"\n",
        "print(\"--------------------------------------------\")\n",
        "print(pd.read_sql_query(qry, db))\n",
        "print(\"--------------------------------------------\")"
      ],
      "metadata": {
        "colab": {
          "base_uri": "https://localhost:8080/"
        },
        "id": "U9qTgs0LROah",
        "outputId": "d7a3dd3f-1523-4655-da51-80b7a9111396"
      },
      "execution_count": 21,
      "outputs": [
        {
          "output_type": "stream",
          "name": "stdout",
          "text": [
            "--------------------------------------------\n",
            "  month_date  churn_customers\n",
            "0         01                1\n",
            "--------------------------------------------\n"
          ]
        }
      ]
    },
    {
      "cell_type": "markdown",
      "source": [
        "## **4. Second Most Recent Activity**\n",
        "* *Get the second most recent activity, if there is only one activity the return one*"
      ],
      "metadata": {
        "id": "NkE3hTV5yLYW"
      }
    },
    {
      "cell_type": "code",
      "source": [
        "# Create table\n",
        "try:\n",
        "  db.execute(\"\"\"\n",
        "  create table UserActivity\n",
        "  (\n",
        "  username varchar(20) ,\n",
        "  activity varchar(20),\n",
        "  startDate Date   ,\n",
        "  endDate Date\n",
        "  )\n",
        "  \"\"\")\n",
        "except:\n",
        "  print(\"Already table existed !!\")\n",
        "\n",
        "# Insert values\n",
        "input = [\"\"\"\n",
        "insert into UserActivity values \n",
        "('Alice','Travel','2020-02-12','2020-02-20'),\n",
        "('Alice','Dancing','2020-02-21','2020-02-23'),\n",
        "('Alice','Travel','2020-02-24','2020-02-28'),\n",
        "('Bob','Travel','2020-02-11','2020-02-18')\n",
        "\"\"\"]\n",
        "for i in input:\n",
        "  db.execute(i)\n",
        "  db.commit()"
      ],
      "metadata": {
        "id": "2jB2ktGA8J43"
      },
      "execution_count": 12,
      "outputs": []
    },
    {
      "cell_type": "code",
      "source": [
        "qry = \"\"\"\n",
        "select \n",
        "* \n",
        "from UserActivity\n",
        "\"\"\"\n",
        "print(\"----------------------------------------------\")\n",
        "print(pd.read_sql_query(qry, db))\n",
        "print(\"----------------------------------------------\")"
      ],
      "metadata": {
        "id": "z3IqwRWQ98Ey",
        "colab": {
          "base_uri": "https://localhost:8080/"
        },
        "outputId": "dcd9a7dd-d7dc-4251-a03e-49ffdd150b49"
      },
      "execution_count": 13,
      "outputs": [
        {
          "output_type": "stream",
          "name": "stdout",
          "text": [
            "----------------------------------------------\n",
            "  username activity   startDate     endDate\n",
            "0    Alice   Travel  2020-02-12  2020-02-20\n",
            "1    Alice  Dancing  2020-02-21  2020-02-23\n",
            "2    Alice   Travel  2020-02-24  2020-02-28\n",
            "3      Bob   Travel  2020-02-11  2020-02-18\n",
            "----------------------------------------------\n"
          ]
        }
      ]
    },
    {
      "cell_type": "markdown",
      "source": [
        "**Expected Output:**\n",
        "\n",
        "![image.png](data:image/png;base64,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)"
      ],
      "metadata": {
        "id": "HTx90AgKiOxF"
      }
    },
    {
      "cell_type": "code",
      "source": [
        "qry = \"\"\"\n",
        "with cte1 as(\n",
        "select \n",
        "*,\n",
        "count(1) over(partition by username) as total_activities,\n",
        "rank() over( partition by username order by endDate) as rnk \n",
        "from UserActivity\n",
        ")\n",
        "select * from cte1\n",
        "where total_activities = 1 or rnk = 2\n",
        "\"\"\"\n",
        "print(\"------------------------------------------------------------------------\")\n",
        "print(pd.read_sql_query(qry, db))\n",
        "print(\"------------------------------------------------------------------------\")\n"
      ],
      "metadata": {
        "colab": {
          "base_uri": "https://localhost:8080/"
        },
        "outputId": "6031b0d4-9661-4291-ee79-cbc7b9fd04b7",
        "id": "fDm7kQCryLYZ"
      },
      "execution_count": 14,
      "outputs": [
        {
          "output_type": "stream",
          "name": "stdout",
          "text": [
            "------------------------------------------------------------------------\n",
            "  username activity   startDate     endDate  total_activities  rnk\n",
            "0    Alice  Dancing  2020-02-21  2020-02-23                 3    2\n",
            "1      Bob   Travel  2020-02-11  2020-02-18                 1    1\n",
            "------------------------------------------------------------------------\n"
          ]
        }
      ]
    },
    {
      "cell_type": "markdown",
      "source": [
        "## **5. Total charges as per billing rate**"
      ],
      "metadata": {
        "id": "rEUiU0oKigTR"
      }
    },
    {
      "cell_type": "code",
      "source": [
        "# Create table\n",
        "try:\n",
        "  db.execute(\"\"\"\n",
        "  create table billings \n",
        "  (\n",
        "  emp_name varchar(10),\n",
        "  bill_date date,\n",
        "  bill_rate int\n",
        "  )\n",
        "  \"\"\")\n",
        "  db.execute(\"\"\"\n",
        "  create table HoursWorked \n",
        "  (\n",
        "  emp_name varchar(20),\n",
        "  work_date date,\n",
        "  bill_hrs int\n",
        "  )\n",
        "  \"\"\")\n",
        "except:\n",
        "  print(\"Already table existed !!\")\n",
        "\n",
        "# Insert values\n",
        "input_billings = [\"\"\"\n",
        "insert into billings values\n",
        "('Sachin','1990-01-01',25),\n",
        "('Sehwag' ,'1989-01-01', 15),\n",
        "('Dhoni' ,'1989-01-01', 20),\n",
        "('Sachin' ,'1991-02-05', 30)\n",
        "\"\"\"]\n",
        "db.execute(input_billings[0])\n",
        "\n",
        "input_HoursWorked = [\"\"\"\n",
        "insert into HoursWorked values\n",
        "('Sachin', '1990-07-01' ,3),\n",
        "('Sachin', '1990-08-01', 5),\n",
        "('Sehwag','1990-07-01', 2),\n",
        "('Sachin','1991-07-01', 4)\n",
        "\"\"\"]\n",
        "db.execute(input_HoursWorked[0])\n",
        "\n",
        "db.commit()"
      ],
      "metadata": {
        "id": "98Fc_3z_mD90"
      },
      "execution_count": 15,
      "outputs": []
    },
    {
      "cell_type": "code",
      "source": [
        "qry = \"\"\"\n",
        "select \n",
        "* \n",
        "from billings\n",
        "\"\"\"\n",
        "print(\"----------------------------------------------\")\n",
        "print(pd.read_sql_query(qry, db))\n",
        "qry = \"\"\"\n",
        "select \n",
        "* \n",
        "from HoursWorked\n",
        "\"\"\"\n",
        "print(\"----------------------------------------------\")\n",
        "print(pd.read_sql_query(qry, db))\n",
        "print(\"----------------------------------------------\")"
      ],
      "metadata": {
        "colab": {
          "base_uri": "https://localhost:8080/"
        },
        "outputId": "c239029a-ace7-44a9-f250-88e1b2b617e0",
        "id": "pjXEIK6RigTS"
      },
      "execution_count": 16,
      "outputs": [
        {
          "output_type": "stream",
          "name": "stdout",
          "text": [
            "----------------------------------------------\n",
            "  emp_name   bill_date  bill_rate\n",
            "0   Sachin  1990-01-01         25\n",
            "1   Sehwag  1989-01-01         15\n",
            "2    Dhoni  1989-01-01         20\n",
            "3   Sachin  1991-02-05         30\n",
            "----------------------------------------------\n",
            "  emp_name   work_date  bill_hrs\n",
            "0   Sachin  1990-07-01         3\n",
            "1   Sachin  1990-08-01         5\n",
            "2   Sehwag  1990-07-01         2\n",
            "3   Sachin  1991-07-01         4\n",
            "----------------------------------------------\n"
          ]
        }
      ]
    },
    {
      "cell_type": "markdown",
      "source": [
        "**Expected Output:**\n",
        "\n",
        "![image.png](data:image/png;base64,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)"
      ],
      "metadata": {
        "id": "YhbDyaZggyDB"
      }
    },
    {
      "cell_type": "code",
      "source": [
        "qry = \"\"\"\n",
        "with date_range as(\n",
        "select \n",
        "*,\n",
        "lead(DATE(bill_date, '-1 days'), 1, '9999-12-31') over(partition by emp_name order by bill_date asc) as bill_date_end\n",
        "from billings\n",
        ")\n",
        "select \n",
        "hw.emp_name,\n",
        "sum(dr.bill_rate*hw.bill_hrs) as total_charges\n",
        "from date_range dr\n",
        "inner join  HoursWorked hw\n",
        "on hw.emp_name = dr.emp_name and hw.work_date between dr.bill_date and dr.bill_date_end\n",
        "group by 1\n",
        "\"\"\"\n",
        "print(\"-------------------------------\")\n",
        "print(pd.read_sql_query(qry, db))\n",
        "print(\"-------------------------------\")\n"
      ],
      "metadata": {
        "colab": {
          "base_uri": "https://localhost:8080/"
        },
        "outputId": "48a44a51-4675-439d-b78a-97a4784ecb84",
        "id": "c1A0WvE7igTT"
      },
      "execution_count": 17,
      "outputs": [
        {
          "output_type": "stream",
          "name": "stdout",
          "text": [
            "-------------------------------\n",
            "  emp_name  total_charges\n",
            "0   Sachin            320\n",
            "1   Sehwag             30\n",
            "-------------------------------\n"
          ]
        }
      ]
    },
    {
      "cell_type": "markdown",
      "source": [
        "## **6. Consecutive Empty Seats**\n",
        "* 3 or more consecutive empty seats"
      ],
      "metadata": {
        "id": "xMZm9JtErB1I"
      }
    },
    {
      "cell_type": "code",
      "source": [
        "# Create table\n",
        "try:\n",
        "  db.execute(\"\"\"\n",
        "  create table bms \n",
        "  (seat_no int ,\n",
        "   is_empty varchar(10))\n",
        "  \"\"\")\n",
        "except:\n",
        "  print(\"Already table existed !!\")\n",
        "  \n",
        "# Insert values\n",
        "input_bms = [\"\"\"\n",
        "insert into bms values\n",
        "(1,'N')\n",
        ",(2,'Y')\n",
        ",(3,'N')\n",
        ",(4,'Y')\n",
        ",(5,'Y')\n",
        ",(6,'Y')\n",
        ",(7,'N')\n",
        ",(8,'Y')\n",
        ",(9,'Y')\n",
        ",(10,'Y')\n",
        ",(11,'Y')\n",
        ",(12,'N')\n",
        ",(13,'Y')\n",
        ",(14,'Y')\n",
        "\"\"\"]\n",
        "db.execute(input_bms[0])\n",
        "db.commit()"
      ],
      "metadata": {
        "id": "r8MwyIUJrB1P"
      },
      "execution_count": 18,
      "outputs": []
    },
    {
      "cell_type": "code",
      "source": [
        "qry = \"\"\"\n",
        "select \n",
        "* \n",
        "from bms\n",
        "\"\"\"\n",
        "print(\"----------------------------------------------\")\n",
        "print(pd.read_sql_query(qry, db))\n",
        "print(\"----------------------------------------------\")"
      ],
      "metadata": {
        "colab": {
          "base_uri": "https://localhost:8080/"
        },
        "outputId": "8ac0fbdb-fe95-4246-e7e4-51ae53177adf",
        "id": "ktTKmGSvrB1P"
      },
      "execution_count": 19,
      "outputs": [
        {
          "output_type": "stream",
          "name": "stdout",
          "text": [
            "----------------------------------------------\n",
            "    seat_no is_empty\n",
            "0         1        N\n",
            "1         2        Y\n",
            "2         3        N\n",
            "3         4        Y\n",
            "4         5        Y\n",
            "5         6        Y\n",
            "6         7        N\n",
            "7         8        Y\n",
            "8         9        Y\n",
            "9        10        Y\n",
            "10       11        Y\n",
            "11       12        N\n",
            "12       13        Y\n",
            "13       14        Y\n",
            "----------------------------------------------\n"
          ]
        }
      ]
    },
    {
      "cell_type": "markdown",
      "source": [
        "**Expected Output:**\n",
        "\n",
        "![image.png](data:image/png;base64,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)"
      ],
      "metadata": {
        "id": "yi6QH-rHwF_a"
      }
    },
    {
      "cell_type": "code",
      "source": [
        "qry = \"\"\"\n",
        "select * from (\n",
        "select \n",
        "*,\n",
        "lag(is_empty,1) over(order by seat_no) as prev_1,\n",
        "lag(is_empty,2) over(order by seat_no) as prev_2,\n",
        "lead(is_empty,1) over(order by seat_no) as next_1,\n",
        "lead(is_empty,2) over(order by seat_no) as next_2\n",
        "from bms\n",
        ") A\n",
        "where is_empty = 'Y' and prev_1 = 'Y' and prev_2 = 'Y' \n",
        "or (is_empty = 'Y' and prev_1 = 'Y' and  next_1 ='Y')\n",
        "or (is_empty = 'Y' and next_1 = 'Y' and  next_2 = 'Y')\n",
        "\"\"\"\n",
        "print(\"-----------------------------------------------------\")\n",
        "print(pd.read_sql_query(qry, db))\n",
        "print(\"-----------------------------------------------------\")"
      ],
      "metadata": {
        "colab": {
          "base_uri": "https://localhost:8080/"
        },
        "id": "u-mc60PDAOww",
        "outputId": "37517cd9-6211-4c31-910d-a1bdaddcfe5c"
      },
      "execution_count": 20,
      "outputs": [
        {
          "output_type": "stream",
          "name": "stdout",
          "text": [
            "-----------------------------------------------------\n",
            "   seat_no is_empty prev_1 prev_2 next_1 next_2\n",
            "0        4        Y      N      Y      Y      Y\n",
            "1        5        Y      Y      N      Y      N\n",
            "2        6        Y      Y      Y      N      Y\n",
            "3        8        Y      N      Y      Y      Y\n",
            "4        9        Y      Y      N      Y      Y\n",
            "5       10        Y      Y      Y      Y      N\n",
            "6       11        Y      Y      Y      N      Y\n",
            "-----------------------------------------------------\n"
          ]
        }
      ]
    },
    {
      "cell_type": "markdown",
      "source": [
        "**Source:**\n",
        "* https://www.youtube.com/playlist?list=PLBTZqjSKn0IeKBQDjLmzisazhqQy4iGkb"
      ],
      "metadata": {
        "id": "2kDw_UTmz6tX"
      }
    },
    {
      "cell_type": "markdown",
      "source": [
        "# **<center>THE END</center>**"
      ],
      "metadata": {
        "id": "pvV8drQ_ztKk"
      }
    }
  ]
}