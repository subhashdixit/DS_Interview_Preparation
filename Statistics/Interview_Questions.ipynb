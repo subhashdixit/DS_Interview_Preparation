{
 "cells": [
  {
   "cell_type": "markdown",
   "metadata": {},
   "source": [
    "# **Interview Questions**"
   ]
  },
  {
   "cell_type": "markdown",
   "metadata": {},
   "source": [
    "**1. Definition of a random variable?**\n",
    "- A random variable is a variable whose possible values are numerical outcomes of a random phenomenon. It can take on different values with certain probabilities.\n",
    "\n",
    "**2. Central Limit Theorem**\n",
    "\n",
    "**3. p-test, t-test, z-test. When will you use the t-test?**\n",
    "\n",
    "**4. Covariance and correlation- if two variables have zero covariance, are they independent?**\n",
    "\n",
    "**5. Rank of a matrix**\n",
    "\n",
    "**6. P-Value**\n",
    "\n",
    "**7. Hypothesis Testing**\n",
    "\n",
    "**8. y=mx+c, find correlation**\n",
    "\n",
    "**9. What is correlation, and what is the correlation between x and x**2? Explain.**\n"
   ]
  }
 ],
 "metadata": {
  "language_info": {
   "name": "python"
  }
 },
 "nbformat": 4,
 "nbformat_minor": 2
}
