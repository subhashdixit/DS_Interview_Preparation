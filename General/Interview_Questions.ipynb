{
 "cells": [
  {
   "cell_type": "code",
   "execution_count": null,
   "metadata": {},
   "outputs": [],
   "source": []
  },
  {
   "cell_type": "markdown",
   "metadata": {},
   "source": [
    "Guestimate\n",
    "Number of pair of shoes in a society near to Hi-Tech Office\n",
    "\n",
    "\n",
    "Business Related\n",
    "Average Monthly Balance Interpolation\n",
    "Average Monthly Balance Calculation\n",
    "\n",
    "\n",
    "Behavioural Questions\n",
    "What is the selling point about you why should we consider you over other candidate?\n",
    "Why are you looking for a change?\n",
    "What are your salary expectations?\n"
   ]
  }
 ],
 "metadata": {
  "language_info": {
   "name": "python"
  }
 },
 "nbformat": 4,
 "nbformat_minor": 2
}
