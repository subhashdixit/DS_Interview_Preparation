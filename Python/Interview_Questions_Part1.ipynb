{
 "cells": [
  {
   "cell_type": "markdown",
   "metadata": {},
   "source": [
    "# **<center>Python Programs</center>**\n",
    "- These programs are excellent for practicing before any interview. They help build a strong foundation and ensure familiarity with Python syntax."
   ]
  },
  {
   "cell_type": "markdown",
   "metadata": {},
   "source": [
    "## **Basic Python Programs**"
   ]
  },
  {
   "cell_type": "markdown",
   "metadata": {},
   "source": [
    "**1. Program to add Two Numbers**"
   ]
  },
  {
   "cell_type": "code",
   "execution_count": 1,
   "metadata": {},
   "outputs": [
    {
     "name": "stdout",
     "output_type": "stream",
     "text": [
      "2 3\n",
      "sum: 5\n"
     ]
    }
   ],
   "source": [
    "a = 2\n",
    "b = 3\n",
    "print(a,b)\n",
    "sum = a + b\n",
    "print(\"sum:\", sum)"
   ]
  },
  {
   "cell_type": "markdown",
   "metadata": {},
   "source": [
    "**2. Program for Arithmetic Operations**"
   ]
  },
  {
   "cell_type": "code",
   "execution_count": 2,
   "metadata": {},
   "outputs": [
    {
     "name": "stdout",
     "output_type": "stream",
     "text": [
      "2 6\n",
      "\n",
      "\n",
      "SUM         2  +  6  =  8\n",
      "DIFFERENCE  2  -  6  =  -4\n",
      "PRODUCT     2  *  6  =  12\n",
      "QUOTIENT    2  /  6  =  0.3333333333333333\n",
      "MODULUS     2  %  6  =  2\n"
     ]
    }
   ],
   "source": [
    "# Python program to enter two numbers and perform all arithmetic operations\n",
    "p, q = 2, 6\n",
    "print(p, q)\n",
    "sum, sub, mul, mod, div = 0, 0, 0, 0, 0\n",
    "sum = p + q\n",
    "sub = p - q\n",
    "mul = p * q\n",
    "div = p / q\n",
    "mod = p % q\n",
    "print(\"\\n\")\n",
    "print(\"SUM        \", p, \" + \", q, \" = \", sum)\n",
    "print(\"DIFFERENCE \", p, \" - \", q, \" = \", sub)\n",
    "print(\"PRODUCT    \", p, \" * \", q, \" = \", mul)\n",
    "print(\"QUOTIENT   \", p, \" / \", q, \" = \", div)\n",
    "print(\"MODULUS    \", p, \" % \", q, \" = \", mod)"
   ]
  },
  {
   "cell_type": "markdown",
   "metadata": {},
   "source": [
    "**3. Program to print Calendar**"
   ]
  },
  {
   "cell_type": "code",
   "execution_count": 3,
   "metadata": {},
   "outputs": [
    {
     "name": "stdout",
     "output_type": "stream",
     "text": [
      "2023 9\n",
      "   September 2023\n",
      "Mo Tu We Th Fr Sa Su\n",
      "             1  2  3\n",
      " 4  5  6  7  8  9 10\n",
      "11 12 13 14 15 16 17\n",
      "18 19 20 21 22 23 24\n",
      "25 26 27 28 29 30\n",
      "\n"
     ]
    }
   ],
   "source": [
    "import calendar\n",
    "y = 2023\n",
    "m = 9\n",
    "print(y,m)\n",
    "print(calendar.month(y, m))"
   ]
  },
  {
   "cell_type": "markdown",
   "metadata": {},
   "source": [
    "**4. Program to find Cube of a Number**"
   ]
  },
  {
   "cell_type": "code",
   "execution_count": 4,
   "metadata": {},
   "outputs": [
    {
     "name": "stdout",
     "output_type": "stream",
     "text": [
      "3\n",
      "The Cube of a Given Number 3  = 27\n"
     ]
    }
   ],
   "source": [
    "number = 3\n",
    "print(number)\n",
    "cube = number * number * number\n",
    "print(\"The Cube of a Given Number {0}  = {1}\".format(number, cube))"
   ]
  },
  {
   "cell_type": "markdown",
   "metadata": {},
   "source": [
    "**5. Program to find Largest of 2 Numbers**"
   ]
  },
  {
   "cell_type": "code",
   "execution_count": 5,
   "metadata": {},
   "outputs": [
    {
     "name": "stdout",
     "output_type": "stream",
     "text": [
      "20 99\n",
      "99 is greatest\n"
     ]
    }
   ],
   "source": [
    "num1=20\n",
    "num2=99\n",
    "print(num1, num2)\n",
    "if(num1>num2):\n",
    "    print(\"{} is greatest\".format(num1))\n",
    "elif(num2>num1):\n",
    "    print(\"{} is greatest\".format(num2))\n",
    "else:\n",
    "    print(\"{} and {} are equal\".format(num1,num2))\n",
    "    "
   ]
  },
  {
   "cell_type": "markdown",
   "metadata": {},
   "source": [
    "**6. Program to find Largest of 3 Numbers**"
   ]
  },
  {
   "cell_type": "code",
   "execution_count": 6,
   "metadata": {},
   "outputs": [
    {
     "name": "stdout",
     "output_type": "stream",
     "text": [
      "2 20 200\n",
      "The greatest number is 200\n"
     ]
    }
   ],
   "source": [
    "# Python program to find the greatest of three numbers using if-else statement\n",
    "num1 = 2\n",
    "num2 = 20\n",
    "num3 = 200\n",
    "print(num1, num2, num3)\n",
    "if (num1 >= num2) and (num1 >= num3):\n",
    " largest = num1\n",
    "elif (num2 >= num1) and (num2 >= num3):\n",
    " greatest = num2\n",
    "else:\n",
    " greatest = num3\n",
    "print(\"The greatest number is\",greatest)"
   ]
  },
  {
   "cell_type": "markdown",
   "metadata": {},
   "source": [
    "**7. Program to Print Natural number 1 to N**"
   ]
  },
  {
   "cell_type": "code",
   "execution_count": 7,
   "metadata": {},
   "outputs": [
    {
     "name": "stdout",
     "output_type": "stream",
     "text": [
      "7\n",
      "Natural Numbers from 1 to 0 are 7\n",
      "1 2 3 4 5 6 7 "
     ]
    }
   ],
   "source": [
    "num = 7\n",
    "print(num)\n",
    "i = 1\n",
    "print(f\"Natural Numbers from 1 to {0} are {num}\")\n",
    "while (i <= num):\n",
    " print (i, end = ' ')\n",
    " i = i + 1"
   ]
  },
  {
   "cell_type": "markdown",
   "metadata": {},
   "source": [
    "**8. Program for Leap Year**"
   ]
  },
  {
   "cell_type": "code",
   "execution_count": 8,
   "metadata": {},
   "outputs": [
    {
     "name": "stdout",
     "output_type": "stream",
     "text": [
      "2024 is a leap year\n"
     ]
    }
   ],
   "source": [
    "Year = 2024\n",
    "if (Year % 4) == 0:\n",
    "   if (Year % 100) == 0:\n",
    "       if (Year % 400) == 0:\n",
    "           print(\"{0} is a leap year\".format(Year))\n",
    "       else:\n",
    "           print(\"{0} is not a leap year\".format(Year))\n",
    "   else:\n",
    "       print(\"{0} is a leap year\".format(Year))\n",
    "else:\n",
    "   print(\"{0} is not a leap year\".format(Year))"
   ]
  },
  {
   "cell_type": "markdown",
   "metadata": {},
   "source": [
    "**9. Program to find Odd or Even**"
   ]
  },
  {
   "cell_type": "code",
   "execution_count": 9,
   "metadata": {},
   "outputs": [
    {
     "name": "stdout",
     "output_type": "stream",
     "text": [
      "8\n",
      "This Number is Even\n"
     ]
    }
   ],
   "source": [
    "a=8\n",
    "print(a)\n",
    "if(a%2==0):\n",
    "    print(\"This Number is Even\")\n",
    "else:\n",
    "    print(\"This Number is Odd\") "
   ]
  },
  {
   "cell_type": "markdown",
   "metadata": {},
   "source": [
    "**10. Program to print Odd Numbers from 1 to 100**"
   ]
  },
  {
   "cell_type": "code",
   "execution_count": 10,
   "metadata": {},
   "outputs": [
    {
     "name": "stdout",
     "output_type": "stream",
     "text": [
      "1 3 5 7 9 11 13 15 17 19 21 23 25 27 29 31 33 35 37 39 41 43 45 47 49 51 53 55 57 59 61 63 65 67 69 71 73 75 77 79 81 83 85 87 89 91 93 95 97 99 "
     ]
    }
   ],
   "source": [
    "i=0\n",
    "while i<100:\n",
    "    if i%2!=0:\n",
    "        print(i, end=\" \")\n",
    "    i=i+1"
   ]
  },
  {
   "cell_type": "markdown",
   "metadata": {},
   "source": [
    "**11. Program to find Positive or Negative**"
   ]
  },
  {
   "cell_type": "code",
   "execution_count": 11,
   "metadata": {},
   "outputs": [
    {
     "name": "stdout",
     "output_type": "stream",
     "text": [
      "-45\n",
      "Negative number\n"
     ]
    }
   ],
   "source": [
    "num = -45\n",
    "print(num)\n",
    "if num >= 0:\n",
    "   if num == 0:\n",
    "       print(\"Zero\")\n",
    "   else:\n",
    "       print(\"Positive number\")\n",
    "else:\n",
    "   print(\"Negative number\")"
   ]
  },
  {
   "cell_type": "markdown",
   "metadata": {},
   "source": [
    "**12. Program to find Profit Or Loss**"
   ]
  },
  {
   "cell_type": "code",
   "execution_count": 12,
   "metadata": {},
   "outputs": [
    {
     "name": "stdout",
     "output_type": "stream",
     "text": [
      "40 34\n",
      "Total Loss Amount = 6\n"
     ]
    }
   ],
   "source": [
    "ap = 40\n",
    "sa = 34\n",
    "print(ap, sa)\n",
    "if(ap > sa):\n",
    "    amount = ap - sa\n",
    "    print(\"Total Loss Amount = %d\"%(amount))\n",
    "elif(sa > ap):\n",
    "    amount = sa - ap\n",
    "    print(\"Total Profit = %d\"%(amount))\n",
    "else:\n",
    "    print(\"No Profit No Loss !!!\")"
   ]
  },
  {
   "cell_type": "markdown",
   "metadata": {},
   "source": [
    "**13. Program to find Square of a Number**"
   ]
  },
  {
   "cell_type": "code",
   "execution_count": 13,
   "metadata": {},
   "outputs": [
    {
     "name": "stdout",
     "output_type": "stream",
     "text": [
      "Square of 7 is 49 \n"
     ]
    }
   ],
   "source": [
    "# input a number\n",
    "number = 7\n",
    "# calculate square\n",
    "square = number*number\n",
    "# print\n",
    "print(f\"Square of {number} is {square} \")"
   ]
  },
  {
   "cell_type": "markdown",
   "metadata": {},
   "source": [
    "**14. Program to find Square root of a Number**"
   ]
  },
  {
   "cell_type": "code",
   "execution_count": 14,
   "metadata": {},
   "outputs": [
    {
     "name": "stdout",
     "output_type": "stream",
     "text": [
      "4\n",
      "Square root of 4 is 2.0 \n"
     ]
    }
   ],
   "source": [
    "number = 4\n",
    "print(number)\n",
    "if number < 0 :\n",
    "  print(\"Please enter a valid number.\")\n",
    "else :\n",
    "  sq_root = number ** 0.5\n",
    "  print(\"Square root of {} is {} \".format(number,sq_root))"
   ]
  },
  {
   "cell_type": "markdown",
   "metadata": {},
   "source": [
    "**15. Program to find Compound Interest**"
   ]
  },
  {
   "cell_type": "code",
   "execution_count": 15,
   "metadata": {},
   "outputs": [
    {
     "name": "stdout",
     "output_type": "stream",
     "text": [
      "2000 5 10\n",
      "Compound interest is  1257.789253554884\n"
     ]
    }
   ],
   "source": [
    "principle = 2000\n",
    "rate = 5\n",
    "time = 10\n",
    "print(principle, rate, time)\n",
    "ci= principle * pow((1 + rate / 100), time) - principle\n",
    "print(\"Compound interest is \",ci)"
   ]
  },
  {
   "cell_type": "markdown",
   "metadata": {},
   "source": [
    "**16. Program to check Number Divisible by 5 and 11**"
   ]
  },
  {
   "cell_type": "code",
   "execution_count": 16,
   "metadata": {},
   "outputs": [
    {
     "name": "stdout",
     "output_type": "stream",
     "text": [
      "42\n",
      "Given Number 42 is Not Divisible by 5 and 11\n"
     ]
    }
   ],
   "source": [
    "number = 42\n",
    "print(number)\n",
    "if((number % 5 == 0) and (number % 11 == 0)):\n",
    "    print(\"Given Number {0} is Divisible by 5 and 11\".format(number))\n",
    "else:\n",
    "    print(\"Given Number {0} is Not Divisible by 5 and 11\".format(number))"
   ]
  },
  {
   "cell_type": "markdown",
   "metadata": {},
   "source": [
    "**17. Program to find Power of a Number**"
   ]
  },
  {
   "cell_type": "code",
   "execution_count": 17,
   "metadata": {},
   "outputs": [
    {
     "name": "stdout",
     "output_type": "stream",
     "text": [
      "2 5\n",
      "Power is = 32.0\n"
     ]
    }
   ],
   "source": [
    "import math\n",
    "base_num = 2\n",
    "exponent = 5\n",
    "print(base_num, exponent)\n",
    "power = math.pow(base_num,exponent)\n",
    "print(\"Power is =\",power)"
   ]
  },
  {
   "cell_type": "markdown",
   "metadata": {},
   "source": [
    "**18. Program for Multiplication Table**"
   ]
  },
  {
   "cell_type": "code",
   "execution_count": 18,
   "metadata": {},
   "outputs": [
    {
     "name": "stdout",
     "output_type": "stream",
     "text": [
      "20\n",
      "20X1=20\n",
      "20X2=40\n",
      "20X3=60\n",
      "20X4=80\n",
      "20X5=100\n",
      "20X6=120\n",
      "20X7=140\n",
      "20X8=160\n",
      "20X9=180\n",
      "20X10=200\n"
     ]
    }
   ],
   "source": [
    "'''multiplication table in Python'''\n",
    "num = 20\n",
    "print(num)\n",
    "#use for loop to iterates 1 times\n",
    "for i in range(1,11):\n",
    "    print(f\"{num}X{i}={num*i}\")  #for display multiplication table"
   ]
  },
  {
   "cell_type": "markdown",
   "metadata": {},
   "source": [
    "**19. Find Roots of a Quadratic Equation**"
   ]
  },
  {
   "cell_type": "code",
   "execution_count": 19,
   "metadata": {},
   "outputs": [
    {
     "name": "stdout",
     "output_type": "stream",
     "text": [
      "3 2 5\n",
      "The function has two complex (conjugate) roots: (-0.3333333333333333+1.247219128924647j)  and (-0.3333333333333333-1.247219128924647j)\n"
     ]
    }
   ],
   "source": [
    "import math\n",
    "a = 3\n",
    "b = 2\n",
    "c = 5 \n",
    "print(a,b,c)\n",
    "discriminant = b**2 - 4 * a * c\n",
    "if discriminant >= 0:\n",
    "    x_1=(-b+math.sqrt(discriminant))/2*a\n",
    "    x_2=(-b-math.sqrt(discriminant))/2*a\n",
    "else:\n",
    "    x_1= complex((-b/(2*a)),math.sqrt(-discriminant)/(2*a))\n",
    "    x_2= complex((-b/(2*a)),-math.sqrt(-discriminant)/(2*a))\n",
    "if discriminant > 0:\n",
    "    print(\"The function has two distinct real roots: {} and {}\".format(x_1,x_2))\n",
    "elif discriminant == 0:\n",
    "    print(\"The function has one double root: \", x_1)\n",
    "else:\n",
    "    print(\"The function has two complex (conjugate) roots: {}  and {}\".format(x_1,x_2))"
   ]
  },
  {
   "cell_type": "markdown",
   "metadata": {},
   "source": [
    "**20. Find Student Grade**"
   ]
  },
  {
   "cell_type": "code",
   "execution_count": 20,
   "metadata": {},
   "outputs": [
    {
     "name": "stdout",
     "output_type": "stream",
     "text": [
      "80\n",
      "C Grade\n"
     ]
    }
   ],
   "source": [
    "mark=80\n",
    "print(mark)\n",
    "if(mark>95 and mark<=100):\n",
    "    print(\"O Grade\")\n",
    "elif(mark>90 and mark<=95):\n",
    "    print(\"A grade\")\n",
    "elif(mark>80 and mark<91):\n",
    "    print(\"B Grade\")\n",
    "elif(mark>70 and mark<81):\n",
    "    print(\"C Grade\")\n",
    "elif(mark>60 and mark<71):\n",
    "    print(\"D Grade\")\n",
    "elif(mark>49 and mark<61):\n",
    "    print(\"E Grade\")\n",
    "elif(mark>=0 and mark<50):\n",
    "    print(\"F Grade\")\n",
    "else:\n",
    "    print(\"Invalid Mark\")"
   ]
  },
  {
   "cell_type": "markdown",
   "metadata": {},
   "source": [
    "**21. Find Simple Interest**"
   ]
  },
  {
   "cell_type": "code",
   "execution_count": 21,
   "metadata": {},
   "outputs": [
    {
     "name": "stdout",
     "output_type": "stream",
     "text": [
      "2000 10 5\n",
      "Simple interest : 1000.0\n"
     ]
    }
   ],
   "source": [
    "P = 2000\n",
    "N = 10\n",
    "R = 5\n",
    "print(P,N,R)\n",
    "#calculate simple interest by using this formula\n",
    "SI = (P * N * R)/100\n",
    "#print\n",
    "print(\"Simple interest : {}\".format(SI))"
   ]
  },
  {
   "cell_type": "markdown",
   "metadata": {},
   "source": [
    "**22. Print Natural number 1 to N**"
   ]
  },
  {
   "cell_type": "code",
   "execution_count": 22,
   "metadata": {},
   "outputs": [
    {
     "name": "stdout",
     "output_type": "stream",
     "text": [
      "20\n",
      "Natural numbers 1 to  20\n",
      "1 2 3 4 5 6 7 8 9 10 11 12 13 14 15 16 17 18 19 20 "
     ]
    }
   ],
   "source": [
    "#print 1 to n natural number\n",
    "#using for loop\n",
    "num=20\n",
    "print(num)\n",
    "print(\"Natural numbers 1 to \",num )\n",
    "for i in range(1,num+1):\n",
    "     print(i, end = \" \")"
   ]
  },
  {
   "cell_type": "markdown",
   "metadata": {},
   "source": [
    "**23. Program to print Natural Numbers in Reverse Order**"
   ]
  },
  {
   "cell_type": "code",
   "execution_count": 23,
   "metadata": {},
   "outputs": [
    {
     "name": "stdout",
     "output_type": "stream",
     "text": [
      "20\n",
      "20 19 18 17 16 15 14 13 12 11 10 9 8 7 6 5 4 3 2 1 "
     ]
    }
   ],
   "source": [
    "N = 20\n",
    "print(N)\n",
    "for i in range(N, 0, -1):\n",
    "\t\tprint(i, end = \" \")\n"
   ]
  },
  {
   "cell_type": "markdown",
   "metadata": {},
   "source": [
    "**24. Calculate Electricity Bill**"
   ]
  },
  {
   "cell_type": "code",
   "execution_count": 24,
   "metadata": {},
   "outputs": [
    {
     "name": "stdout",
     "output_type": "stream",
     "text": [
      "300\n",
      "Electricity Bill :  1625.0\n"
     ]
    }
   ],
   "source": [
    "tuc=300\n",
    "print(tuc)\n",
    "if tuc>500:\n",
    "    amount=tuc*9.25\n",
    "    surcharge=80\n",
    "elif tuc>300:\n",
    "    amount=tuc*7.75\n",
    "    surcharge=70\n",
    "elif tuc>200:\n",
    "    amount=tuc*5.25\n",
    "    surcharge=50\n",
    "elif tuc>100:\n",
    "    amount=tuc*3.75\n",
    "    surcharge=30\n",
    "else:\n",
    "    amount=tuc*2.25\n",
    "    surcharge=20\n",
    "billTotal=amount+surcharge\n",
    "print(\"Electricity Bill : \",billTotal)"
   ]
  },
  {
   "cell_type": "markdown",
   "metadata": {},
   "source": [
    "## **Basic SUM Programs**"
   ]
  },
  {
   "cell_type": "markdown",
   "metadata": {},
   "source": [
    "**1. Program to find Sum of Natural Numbers**"
   ]
  },
  {
   "cell_type": "code",
   "execution_count": 25,
   "metadata": {},
   "outputs": [
    {
     "name": "stdout",
     "output_type": "stream",
     "text": [
      "10\n",
      "The sum of natural number = 55\n"
     ]
    }
   ],
   "source": [
    "# Python program to find sum of n natural numbers\n",
    "# take input\n",
    "num = 10\n",
    "print(num)\n",
    "# find sum of natural number\n",
    "sum = 0\n",
    "x = 1\n",
    "while x <= num:\n",
    " sum += x\n",
    " x += 1\n",
    "# display result\n",
    "print('The sum of natural number =', sum)"
   ]
  },
  {
   "cell_type": "markdown",
   "metadata": {},
   "source": [
    "**2. Program to find Sum of Even Numbers**"
   ]
  },
  {
   "cell_type": "code",
   "execution_count": 26,
   "metadata": {},
   "outputs": [
    {
     "name": "stdout",
     "output_type": "stream",
     "text": [
      "23\n",
      "132\n"
     ]
    }
   ],
   "source": [
    "n=23\n",
    "print(n)\n",
    "sum=0\n",
    "for i in range(2,n+1,2):\n",
    "    sum+=i\n",
    "print(sum)"
   ]
  },
  {
   "cell_type": "markdown",
   "metadata": {},
   "source": [
    "**3. Find Sum and Average of Natural Numbers**"
   ]
  },
  {
   "cell_type": "code",
   "execution_count": 27,
   "metadata": {},
   "outputs": [
    {
     "name": "stdout",
     "output_type": "stream",
     "text": [
      "12\n",
      "Sum of first  12 numbers is:  78\n",
      "Average of  12 numbers is:  6.5\n"
     ]
    }
   ],
   "source": [
    "n = 12\n",
    "print(n)\n",
    "sum = 0\n",
    "# loop from 1 to n\n",
    "for num in range(1, n + 1, 1):\n",
    "    sum = sum + num\n",
    "print(\"Sum of first \", n, \"numbers is: \", sum)\n",
    "average = sum / n\n",
    "print(\"Average of \", n, \"numbers is: \", average)"
   ]
  },
  {
   "cell_type": "markdown",
   "metadata": {},
   "source": [
    "**4. Find Sum of Odd Numbers**"
   ]
  },
  {
   "cell_type": "code",
   "execution_count": 28,
   "metadata": {},
   "outputs": [
    {
     "name": "stdout",
     "output_type": "stream",
     "text": [
      "23\n",
      "144\n"
     ]
    }
   ],
   "source": [
    "n=23\n",
    "print(n)\n",
    "sum=0\n",
    "for i in range(1,n+1,2):\n",
    "    sum+=i\n",
    "print(sum)\n"
   ]
  },
  {
   "cell_type": "markdown",
   "metadata": {},
   "source": [
    "**5. Find sum of Even and Odd Numbers**"
   ]
  },
  {
   "cell_type": "code",
   "execution_count": 29,
   "metadata": {},
   "outputs": [
    {
     "name": "stdout",
     "output_type": "stream",
     "text": [
      "The original list is : [345, 893, 1948, 34, 2346]\n",
      "Odd digit sum : 36\n",
      "Even digit sum : 40\n"
     ]
    }
   ],
   "source": [
    "# initializing list\n",
    "test_list = [345, 893, 1948, 34, 2346]\n",
    "# printing original list\n",
    "print(\"The original list is : \" + str(test_list))\n",
    "odd_sum = 0\n",
    "even_sum = 0\n",
    "for sub in test_list:\n",
    "\tfor ele in str(sub):\n",
    "\t\t# adding in particular summation according to value\n",
    "\t\tif int(ele) % 2 == 0:\n",
    "\t\t\teven_sum += int(ele)\n",
    "\t\telse:\n",
    "\t\t\todd_sum += int(ele)\n",
    "# printing result\n",
    "print(\"Odd digit sum : \" + str(odd_sum))\n",
    "print(\"Even digit sum : \" + str(even_sum))\n"
   ]
  },
  {
   "cell_type": "markdown",
   "metadata": {},
   "source": [
    "## **Advanced Number Programs**"
   ]
  },
  {
   "cell_type": "markdown",
   "metadata": {},
   "source": [
    "**1. Program to Check Armstrong Number**"
   ]
  },
  {
   "cell_type": "code",
   "execution_count": 30,
   "metadata": {},
   "outputs": [
    {
     "name": "stdout",
     "output_type": "stream",
     "text": [
      "371\n",
      "371 is an Armstrong number\n"
     ]
    }
   ],
   "source": [
    "num = 371\n",
    "print(num)\n",
    "sum = 0\n",
    "temp = num\n",
    "while temp > 0:\n",
    "   digit = temp % 10\n",
    "   sum += digit ** 3\n",
    "   temp //= 10\n",
    "if num == sum:\n",
    "   print(num,\"is an Armstrong number\")\n",
    "else:\n",
    "   print(num,\"is not an Armstrong number\")  "
   ]
  },
  {
   "cell_type": "markdown",
   "metadata": {},
   "source": [
    "**2. Program to Count Number of Digits in a Number**"
   ]
  },
  {
   "cell_type": "code",
   "execution_count": 31,
   "metadata": {},
   "outputs": [
    {
     "name": "stdout",
     "output_type": "stream",
     "text": [
      "Number of digits: 4\n"
     ]
    }
   ],
   "source": [
    "num = 3452\n",
    "count = 0\n",
    "while num != 0:\n",
    "    num //= 10\n",
    "    count += 1\n",
    "print(\"Number of digits: \" + str(count))"
   ]
  },
  {
   "cell_type": "markdown",
   "metadata": {},
   "source": [
    "**3. Fibonacci Series**"
   ]
  },
  {
   "cell_type": "code",
   "execution_count": 32,
   "metadata": {},
   "outputs": [
    {
     "name": "stdout",
     "output_type": "stream",
     "text": [
      "7\n",
      "Fibonacci sequence:\n",
      "0 1 1 2 3 5 8 "
     ]
    }
   ],
   "source": [
    "# Program to display the Fibonacci sequence up to n-th term\n",
    "nterms = 7\n",
    "print(nterms)\n",
    "# first two terms\n",
    "n1, n2 = 0, 1\n",
    "count = 0\n",
    "# check if the number of terms is valid\n",
    "if nterms <= 0:\n",
    "   print(\"Please enter a positive integer\")\n",
    "# if there is only one term, return n1\n",
    "elif nterms == 1:\n",
    "   print(\"Fibonacci sequence upto\",nterms,\":\")\n",
    "   print(n1)\n",
    "# generate fibonacci sequence\n",
    "else:\n",
    "   print(\"Fibonacci sequence:\")\n",
    "   while count < nterms:\n",
    "       print(n1, end = \" \")\n",
    "       nth = n1 + n2\n",
    "       # update values\n",
    "       n1 = n2\n",
    "       n2 = nth\n",
    "       count += 1"
   ]
  },
  {
   "cell_type": "markdown",
   "metadata": {},
   "source": [
    "**3. Find Factors of a Number**"
   ]
  },
  {
   "cell_type": "code",
   "execution_count": 33,
   "metadata": {},
   "outputs": [
    {
     "name": "stdout",
     "output_type": "stream",
     "text": [
      "34\n",
      "The factors of 34 are:\n",
      "1 2 17 34 "
     ]
    }
   ],
   "source": [
    "num = 34\n",
    "print(num)\n",
    "# find factor of number\n",
    "print('The factors of', num, 'are:')\n",
    "for i in range(1, num+1):\n",
    "    if(num % i) == 0:\n",
    "        print(i, end=' ')"
   ]
  },
  {
   "cell_type": "markdown",
   "metadata": {},
   "source": [
    "**4. Find Factorial of a Number**"
   ]
  },
  {
   "cell_type": "code",
   "execution_count": 34,
   "metadata": {},
   "outputs": [
    {
     "name": "stdout",
     "output_type": "stream",
     "text": [
      "4\n",
      "The factorial of 4 is 24\n"
     ]
    }
   ],
   "source": [
    "num = 4\n",
    "print(num)\n",
    "factorial = 1\n",
    "if num < 0:\n",
    "   print(\" Factorial does not exist for negative numbers\")\n",
    "elif num == 0:\n",
    "   print(\"The factorial of 0 is 1\")\n",
    "else:\n",
    "   for i in range(1,num + 1):\n",
    "       factorial = factorial*i\n",
    "   print(\"The factorial of\",num,\"is\",factorial)    "
   ]
  },
  {
   "cell_type": "markdown",
   "metadata": {},
   "source": [
    "**5. Print First Digit of a Number**"
   ]
  },
  {
   "cell_type": "code",
   "execution_count": 35,
   "metadata": {},
   "outputs": [
    {
     "name": "stdout",
     "output_type": "stream",
     "text": [
      "23\n",
      "The first digit of number: 2\n"
     ]
    }
   ],
   "source": [
    "# take input\n",
    "num = 23\n",
    "print(num)\n",
    "# get the first digit\n",
    "while (num >= 10):\n",
    "    num = num // 10\n",
    "# printing first digit of number\n",
    "print('The first digit of number:', num)"
   ]
  },
  {
   "cell_type": "markdown",
   "metadata": {},
   "source": [
    "**6. Print Last Digit in a Number**"
   ]
  },
  {
   "cell_type": "code",
   "execution_count": 36,
   "metadata": {},
   "outputs": [
    {
     "name": "stdout",
     "output_type": "stream",
     "text": [
      "34\n",
      "The last digit of number: 4\n"
     ]
    }
   ],
   "source": [
    "n = 34\n",
    "print(n)\n",
    "# convert number into string\n",
    "number = str(n)\n",
    "# convert first and last characters into integer digits\n",
    "last = int(number[-1])\n",
    "\n",
    "print(f\"The last digit of number: {last}\")"
   ]
  },
  {
   "cell_type": "markdown",
   "metadata": {},
   "source": [
    "**7. Find GCD of Two Numbers**"
   ]
  },
  {
   "cell_type": "code",
   "execution_count": 37,
   "metadata": {},
   "outputs": [
    {
     "name": "stdout",
     "output_type": "stream",
     "text": [
      "2 4\n",
      "GCD is 2\n"
     ]
    }
   ],
   "source": [
    "num1 = 2\n",
    "num2 = 4\n",
    "print(num1, num2)\n",
    "i = 1\n",
    "while(i <= num1 and i <= num2):\n",
    "  if(num1 % i == 0 and num2 % i == 0):\n",
    "    gcd = i\n",
    "  i = i + 1\n",
    "print(\"GCD is\", gcd)"
   ]
  },
  {
   "cell_type": "markdown",
   "metadata": {},
   "source": [
    "**8. Find LCM of Two Numbers**"
   ]
  },
  {
   "cell_type": "code",
   "execution_count": 38,
   "metadata": {},
   "outputs": [
    {
     "name": "stdout",
     "output_type": "stream",
     "text": [
      "The L.C.M. is 216\n"
     ]
    }
   ],
   "source": [
    "# Python Program to find the L.C.M. of two input number\n",
    "def compute_lcm(x, y):\n",
    "   # choose the greater number\n",
    "   if x > y:\n",
    "       greater = x\n",
    "   else:\n",
    "       greater = y\n",
    "   while(True):\n",
    "       if((greater % x == 0) and (greater % y == 0)):\n",
    "           lcm = greater\n",
    "           break\n",
    "       greater += 1\n",
    "   return lcm\n",
    "num1 = 54\n",
    "num2 = 24\n",
    "print(\"The L.C.M. is\", compute_lcm(num1, num2))"
   ]
  },
  {
   "cell_type": "markdown",
   "metadata": {},
   "source": [
    "**9. Palindrome Program**"
   ]
  },
  {
   "cell_type": "code",
   "execution_count": 39,
   "metadata": {},
   "outputs": [
    {
     "name": "stdout",
     "output_type": "stream",
     "text": [
      "The number is palindrome!\n"
     ]
    }
   ],
   "source": [
    "num=111\n",
    "temp=num\n",
    "rev=0\n",
    "while(num>0):\n",
    "    dig=num%10\n",
    "    rev=rev*10+dig\n",
    "    num=num//10\n",
    "if(temp==rev):\n",
    "    print(\"The number is palindrome!\")\n",
    "else:\n",
    "    print(\"Not a palindrome!\")"
   ]
  },
  {
   "cell_type": "markdown",
   "metadata": {},
   "source": [
    "**10. Program to check Perfect Number**"
   ]
  },
  {
   "cell_type": "code",
   "execution_count": 40,
   "metadata": {},
   "outputs": [
    {
     "name": "stdout",
     "output_type": "stream",
     "text": [
      "False\n"
     ]
    }
   ],
   "source": [
    "def perfect_number(n):\n",
    "    sum = 0\n",
    "    for x in range(1, n):\n",
    "        if n % x == 0:\n",
    "            sum += x\n",
    "    return sum == n\n",
    "print(perfect_number(67))"
   ]
  },
  {
   "cell_type": "markdown",
   "metadata": {},
   "source": [
    "**11. Program to check Prime Number**"
   ]
  },
  {
   "cell_type": "code",
   "execution_count": 41,
   "metadata": {},
   "outputs": [
    {
     "name": "stdout",
     "output_type": "stream",
     "text": [
      "8 is not a prime number\n"
     ]
    }
   ],
   "source": [
    "def PrimeChecker(a):\n",
    "    # Checking that given number is more than 1\n",
    "    if a > 1:\n",
    "        # Iterating over the given number with for loop\n",
    "        for j in range(2, int(a/2) + 1):\n",
    "            # If the given number is divisible or not\n",
    "            if (a % j) == 0:\n",
    "                print(a, \"is not a prime number\")\n",
    "                break\n",
    "        # Else it is a prime number\n",
    "        else:\n",
    "            print(a, \"is a prime number\")\n",
    "    # If the given number is 1\n",
    "    else:\n",
    "        print(a, \"is not a prime number\")\n",
    "# Taking an input number from the user\n",
    "a = 8\n",
    "# Printing result\n",
    "PrimeChecker(a)  "
   ]
  },
  {
   "cell_type": "markdown",
   "metadata": {},
   "source": [
    "**12. Print Prime Numbers from 1 to 100**"
   ]
  },
  {
   "cell_type": "code",
   "execution_count": 42,
   "metadata": {},
   "outputs": [
    {
     "name": "stdout",
     "output_type": "stream",
     "text": [
      " 2  3  5  7  11  13  17  19  23  29  31  37  41  43  47  53  59  61  67  71  73  79  83  89  97 "
     ]
    }
   ],
   "source": [
    "for Number in range (1, 101):\n",
    "    count = 0\n",
    "    for i in range(2, (Number//2 + 1)):\n",
    "        if(Number % i == 0):\n",
    "            count = count + 1\n",
    "            break\n",
    "    if (count == 0 and Number != 1):\n",
    "        print(\" %d\" %Number, end = ' ')"
   ]
  },
  {
   "cell_type": "markdown",
   "metadata": {},
   "source": [
    "**13. Find Prime Factors of a Number**"
   ]
  },
  {
   "cell_type": "code",
   "execution_count": 43,
   "metadata": {},
   "outputs": [
    {
     "name": "stdout",
     "output_type": "stream",
     "text": [
      "Factors are:\n",
      "2\n",
      "11\n"
     ]
    }
   ],
   "source": [
    "n=88\n",
    "print(\"Factors are:\")\n",
    "i=1\n",
    "while(i<=n):\n",
    "    k=0\n",
    "    if(n%i==0):\n",
    "        j=1\n",
    "        while(j<=i):\n",
    "            if(i%j==0):\n",
    "                k=k+1\n",
    "            j=j+1\n",
    "        if(k==2):\n",
    "            print(i)\n",
    "    i=i+1"
   ]
  },
  {
   "cell_type": "markdown",
   "metadata": {},
   "source": [
    "**14. Program to Reverse a Number**"
   ]
  },
  {
   "cell_type": "code",
   "execution_count": 44,
   "metadata": {},
   "outputs": [
    {
     "name": "stdout",
     "output_type": "stream",
     "text": [
      "Reversed Number: 4321\n"
     ]
    }
   ],
   "source": [
    "num = 1234\n",
    "reversed_num = 0\n",
    "while num != 0:\n",
    "    digit = num % 10\n",
    "    reversed_num = reversed_num * 10 + digit\n",
    "    num //= 10\n",
    "print(\"Reversed Number: \" + str(reversed_num))"
   ]
  },
  {
   "cell_type": "markdown",
   "metadata": {},
   "source": [
    "**15. Program to check Strong Number**"
   ]
  },
  {
   "cell_type": "code",
   "execution_count": 45,
   "metadata": {},
   "outputs": [
    {
     "name": "stdout",
     "output_type": "stream",
     "text": [
      "Given number is a strong number\n"
     ]
    }
   ],
   "source": [
    "sum=0\n",
    "# Ask user to enter the number\n",
    "num=145\n",
    "# temporary variable  store copy of the original number\n",
    "temp=num\n",
    "# Using while loop\n",
    "while(num):\n",
    "    # intialize with 1\n",
    "    i=1\n",
    "    # fact variable with 1\n",
    "    fact=1\n",
    "    rem=num%10\n",
    "    while(i<=rem):\n",
    "        fact=fact*i   # Find factorial of each number\n",
    "        i=i+1\n",
    "    sum=sum+fact\n",
    "    num=num//10\n",
    "if(sum==temp):\n",
    "    print(\"Given number is a strong number\")\n",
    "else:\n",
    "    print(\"Given number is not a strong number\")  "
   ]
  },
  {
   "cell_type": "markdown",
   "metadata": {},
   "source": [
    "**16. Program to find Sum of Digits in a Number**"
   ]
  },
  {
   "cell_type": "code",
   "execution_count": 46,
   "metadata": {},
   "outputs": [
    {
     "name": "stdout",
     "output_type": "stream",
     "text": [
      "The total sum of digits is: 9\n"
     ]
    }
   ],
   "source": [
    "n=234\n",
    "tot=0\n",
    "while(n>0):\n",
    "    dig=n%10\n",
    "    tot=tot+dig\n",
    "    n=n//10\n",
    "print(\"The total sum of digits is:\",tot)"
   ]
  },
  {
   "cell_type": "markdown",
   "metadata": {},
   "source": [
    "**17. Program to Swap Two Numbers**"
   ]
  },
  {
   "cell_type": "code",
   "execution_count": 47,
   "metadata": {},
   "outputs": [
    {
     "name": "stdout",
     "output_type": "stream",
     "text": [
      "The value of x after swapping: 10\n",
      "The value of y after swapping: 5\n"
     ]
    }
   ],
   "source": [
    "# Python program to swap two variables\n",
    "x = 5\n",
    "y = 10\n",
    "# To take inputs from the user\n",
    "#x = input('Enter value of x: ')\n",
    "#y = input('Enter value of y: ')\n",
    "# create a temporary variable and swap the values\n",
    "temp = x\n",
    "x = y\n",
    "y = temp\n",
    "print('The value of x after swapping: {}'.format(x))\n",
    "print('The value of y after swapping: {}'.format(y))\n"
   ]
  },
  {
   "cell_type": "markdown",
   "metadata": {},
   "source": [
    "## **Programs on Characters**"
   ]
  },
  {
   "cell_type": "markdown",
   "metadata": {},
   "source": [
    "**1. Program to check Alphabet or not**"
   ]
  },
  {
   "cell_type": "code",
   "execution_count": 48,
   "metadata": {},
   "outputs": [
    {
     "name": "stdout",
     "output_type": "stream",
     "text": [
      "a is an Alphabet.\n"
     ]
    }
   ],
   "source": [
    "ch = \"a\"\n",
    "# check charater is alphabet or not\n",
    "if((ch>='a' and ch<= 'z') or (ch>='A' and ch<='Z')):\n",
    "    print(ch, \"is an Alphabet.\")\n",
    "else:\n",
    "    print(ch, \"is not an Alphabet.\")"
   ]
  },
  {
   "cell_type": "markdown",
   "metadata": {},
   "source": [
    "**2. Program to check Alphabet or Digit**"
   ]
  },
  {
   "cell_type": "code",
   "execution_count": 49,
   "metadata": {},
   "outputs": [
    {
     "name": "stdout",
     "output_type": "stream",
     "text": [
      "The Given Character  1 is a Digit\n"
     ]
    }
   ],
   "source": [
    "ch = \"1\"\n",
    "if((ch >= 'a' and ch <= 'z') or (ch >= 'A' and ch <= 'Z')):\n",
    "    print(\"The Given Character \", ch, \"is an Alphabet\")\n",
    "elif(ch >= '0' and ch <= '9'):\n",
    "    print(\"The Given Character \", ch, \"is a Digit\")\n",
    "else:\n",
    "    print(\"The Given Character \", ch, \"is Not an Alphabet or a Digit\")"
   ]
  },
  {
   "cell_type": "markdown",
   "metadata": {},
   "source": [
    "**3. Program to check Character is an Alphabet, Digit or Special Character**"
   ]
  },
  {
   "cell_type": "code",
   "execution_count": 50,
   "metadata": {},
   "outputs": [
    {
     "name": "stdout",
     "output_type": "stream",
     "text": [
      "\n",
      "A is A ALPHABET.\n"
     ]
    }
   ],
   "source": [
    "ch = \"A\"\n",
    "# Check for alphabet and digit.\n",
    "if ch[0].isalpha() :\n",
    "    print(\"\\n\" + ch[0], \"is A ALPHABET.\")\n",
    "elif ch[0].isdigit() :\n",
    "    print(\"\\n\" + ch[0], \"is A DIGIT.\")\n",
    "else :\n",
    "    print(\"\\n\" + ch[0], \"is A SPECIAL CHARACTER.\")"
   ]
  },
  {
   "cell_type": "markdown",
   "metadata": {},
   "source": [
    "**4. Program to check Digit or Not**"
   ]
  },
  {
   "cell_type": "code",
   "execution_count": 51,
   "metadata": {},
   "outputs": [
    {
     "name": "stdout",
     "output_type": "stream",
     "text": [
      "The Given Character  1 is a Digit\n"
     ]
    }
   ],
   "source": [
    "ch = \"1\"\n",
    "if(ch >= '0' and ch <= '9'):\n",
    "    print(\"The Given Character \", ch, \"is a Digit\")\n",
    "else:\n",
    "    print(\"The Given Character \", ch, \"is Not a Digit\")"
   ]
  },
  {
   "cell_type": "markdown",
   "metadata": {},
   "source": [
    "**5. Program to check Lowercase or Uppercase**"
   ]
  },
  {
   "cell_type": "code",
   "execution_count": 52,
   "metadata": {},
   "outputs": [
    {
     "name": "stdout",
     "output_type": "stream",
     "text": [
      "\n",
      "A is UPPERCASE alphabet.\n"
     ]
    }
   ],
   "source": [
    "# Take input from user\n",
    "ch = \"A\"\n",
    "# Check for uppercase, lowercase\n",
    "if ch.isupper() :\n",
    "    print(\"\\n\" + ch, \"is UPPERCASE alphabet.\")\n",
    "elif ch.islower() :\n",
    "    print(\"\\n\" + ch, \"is LOWERCASE alphabet.\")\n",
    "else :\n",
    "    print(\"\\n\" + ch, \"is not an alphabet.\")"
   ]
  },
  {
   "cell_type": "markdown",
   "metadata": {},
   "source": [
    "**6. Check Whether The Given Alphabet Is Upper Case Or Lowercase**"
   ]
  },
  {
   "cell_type": "code",
   "execution_count": 53,
   "metadata": {},
   "outputs": [
    {
     "name": "stdout",
     "output_type": "stream",
     "text": [
      "a  is a lowercase letter\n"
     ]
    }
   ],
   "source": [
    "ch=\"a\"\n",
    "if(ch>='A' and ch<='Z'):\n",
    "    print(ch,\" is an uppercase letter\")\n",
    "elif (ch>='a' and ch<='z'):\n",
    "    print(ch,\" is a lowercase letter\")\n",
    "else:\n",
    "    print(ch,\" is not in Alphabet\")"
   ]
  },
  {
   "cell_type": "markdown",
   "metadata": {},
   "source": [
    "**7. Program to check Vowel or Consonant**"
   ]
  },
  {
   "cell_type": "code",
   "execution_count": 54,
   "metadata": {},
   "outputs": [
    {
     "name": "stdout",
     "output_type": "stream",
     "text": [
      "e is a Vowel\n"
     ]
    }
   ],
   "source": [
    "ch = \"e\"\n",
    "# check vowel or constant and display result\n",
    "if(ch=='A' or ch=='a' or ch=='E' or ch =='e' or ch=='I'\n",
    "      or ch=='i' or ch=='O' or ch=='o' or ch=='U' or ch=='u'):\n",
    "    print(ch, \"is a Vowel\")\n",
    "else:\n",
    "    print(ch, \"is a Consonant\")"
   ]
  },
  {
   "cell_type": "markdown",
   "metadata": {},
   "source": [
    "## **String Programs**"
   ]
  },
  {
   "cell_type": "markdown",
   "metadata": {},
   "source": [
    "**1. ASCII Value of a Single Character**"
   ]
  },
  {
   "cell_type": "code",
   "execution_count": 55,
   "metadata": {},
   "outputs": [
    {
     "name": "stdout",
     "output_type": "stream",
     "text": [
      "The ASCII value of char A is 65\n"
     ]
    }
   ],
   "source": [
    "ch = \"A\"\n",
    "print(f\"The ASCII value of char {ch} is {ord(ch)}\")"
   ]
  },
  {
   "cell_type": "markdown",
   "metadata": {},
   "source": [
    "**2. Print ASCII Value of Total Characters in a String**"
   ]
  },
  {
   "cell_type": "code",
   "execution_count": 56,
   "metadata": {},
   "outputs": [
    {
     "name": "stdout",
     "output_type": "stream",
     "text": [
      "The ASCII Value of Character S= 83\n",
      "The ASCII Value of Character u= 117\n",
      "The ASCII Value of Character b= 98\n",
      "The ASCII Value of Character h= 104\n",
      "The ASCII Value of Character a= 97\n",
      "The ASCII Value of Character s= 115\n",
      "The ASCII Value of Character h= 104\n",
      "The ASCII Value of Character  = 32\n",
      "The ASCII Value of Character D= 68\n",
      "The ASCII Value of Character i= 105\n",
      "The ASCII Value of Character x= 120\n",
      "The ASCII Value of Character i= 105\n",
      "The ASCII Value of Character t= 116\n"
     ]
    }
   ],
   "source": [
    "myStr = \"Subhash Dixit\"\n",
    "for i in range(len(myStr)):\n",
    "    print(f\"The ASCII Value of Character {myStr[i]}= {ord(myStr[i])}\")"
   ]
  },
  {
   "cell_type": "markdown",
   "metadata": {},
   "source": [
    "**3. Concatenate Strings**"
   ]
  },
  {
   "cell_type": "code",
   "execution_count": 57,
   "metadata": {},
   "outputs": [
    {
     "name": "stdout",
     "output_type": "stream",
     "text": [
      "Concatenated String: Subhash DixitAnushka Biswas\n"
     ]
    }
   ],
   "source": [
    "strOne = \"Subhash Dixit\"\n",
    "strTwo = \"Anushka Biswas\"\n",
    "print(f\"Concatenated String: {strOne + strTwo}\")"
   ]
  },
  {
   "cell_type": "markdown",
   "metadata": {},
   "source": [
    "**4. Convert String to Lowercase**"
   ]
  },
  {
   "cell_type": "code",
   "execution_count": 58,
   "metadata": {},
   "outputs": [
    {
     "name": "stdout",
     "output_type": "stream",
     "text": [
      "chase2learn\n"
     ]
    }
   ],
   "source": [
    "message = 'CHASE2LEARN'\n",
    "print(message.lower())"
   ]
  },
  {
   "cell_type": "markdown",
   "metadata": {},
   "source": [
    "**5. Copy a String**"
   ]
  },
  {
   "cell_type": "code",
   "execution_count": 59,
   "metadata": {},
   "outputs": [
    {
     "name": "stdout",
     "output_type": "stream",
     "text": [
      "\n",
      "Original String = Subhash Dixit\n",
      "\n",
      "Copied String = Subhash Dixit\n"
     ]
    }
   ],
   "source": [
    "textOne = \"Subhash Dixit\"\n",
    "textTwo = \"\"\n",
    "for x in textOne:\n",
    "    textTwo = textTwo + x\n",
    "print(\"\\nOriginal String =\", textOne)\n",
    "print(\"\\nCopied String =\", textTwo)"
   ]
  },
  {
   "cell_type": "markdown",
   "metadata": {},
   "source": [
    "**6. Count Occurrence of a Character in a String**"
   ]
  },
  {
   "cell_type": "code",
   "execution_count": 60,
   "metadata": {},
   "outputs": [
    {
     "name": "stdout",
     "output_type": "stream",
     "text": [
      "i occurs 2 times\n"
     ]
    }
   ],
   "source": [
    "str = \"Subhash Dixit\"\n",
    "ch = \"i\"\n",
    "c = str.count(ch)\n",
    "print(ch, \"occurs\", c, \"times\")"
   ]
  },
  {
   "cell_type": "markdown",
   "metadata": {},
   "source": [
    "**7. Count Total Characters in a String**"
   ]
  },
  {
   "cell_type": "code",
   "execution_count": 61,
   "metadata": {},
   "outputs": [
    {
     "name": "stdout",
     "output_type": "stream",
     "text": [
      "Total number of characters in a string: 20\n"
     ]
    }
   ],
   "source": [
    "string = \"The best of programming \"\n",
    "count = 0;\n",
    "#Counts each character except space\n",
    "for i in range(0, len(string)):\n",
    "    if(string[i] != \" \"):\n",
    "        count = count + 1\n",
    "print(f\"Total number of characters in a string: {count}\")"
   ]
  },
  {
   "cell_type": "markdown",
   "metadata": {},
   "source": [
    "**8. Count Total Number of Words in a String**"
   ]
  },
  {
   "cell_type": "code",
   "execution_count": 62,
   "metadata": {},
   "outputs": [
    {
     "name": "stdout",
     "output_type": "stream",
     "text": [
      "Total number of words in the given string=  2\n"
     ]
    }
   ],
   "source": [
    "str1 = \"Subhash Dixit\"\n",
    "tot=1\n",
    "for i in range(len(str1)):\n",
    "    if(str1[i]==' ' or str1 == '/n' or str1 == '\\t'):\n",
    "        tot=tot+1\n",
    "print(\"Total number of words in the given string= \",tot)"
   ]
  },
  {
   "cell_type": "markdown",
   "metadata": {},
   "source": [
    "## **List Programs**"
   ]
  },
  {
   "cell_type": "markdown",
   "metadata": {},
   "source": [
    "**1. Access List Index and Values**"
   ]
  },
  {
   "cell_type": "code",
   "execution_count": 63,
   "metadata": {},
   "outputs": [
    {
     "name": "stdout",
     "output_type": "stream",
     "text": [
      "Index of 45:  1\n",
      "Index of Wed:  3\n"
     ]
    }
   ],
   "source": [
    "listA = [11, 45,27,8,43]\n",
    "# Print index of '45'\n",
    "print(\"Index of 45: \",listA.index(45))\n",
    "listB = ['Sun','Mon','Tue','Wed','Thu','Fri','Sat']\n",
    "# Print index of 'Wed'\n",
    "print(\"Index of Wed: \",listB.index('Wed'))"
   ]
  },
  {
   "cell_type": "markdown",
   "metadata": {},
   "source": [
    "**2. Add two Lists**"
   ]
  },
  {
   "cell_type": "code",
   "execution_count": 64,
   "metadata": {},
   "outputs": [
    {
     "name": "stdout",
     "output_type": "stream",
     "text": [
      "['a', 'b', 'c', 1, 2, 3]\n"
     ]
    }
   ],
   "source": [
    "list1 = [\"a\", \"b\" , \"c\"]\n",
    "list2 = [1, 2, 3]\n",
    "list3 = list1 + list2\n",
    "print(list3)"
   ]
  },
  {
   "cell_type": "markdown",
   "metadata": {},
   "source": [
    "**3. Count Even and Odd Numbers in a List**"
   ]
  },
  {
   "cell_type": "code",
   "execution_count": 65,
   "metadata": {},
   "outputs": [
    {
     "name": "stdout",
     "output_type": "stream",
     "text": [
      "Number of even numbers in list : 4\n",
      "Number of odd numbers in list: 5\n",
      "Number of even numbers in tuple : 4\n",
      "Number of odd numbers in tuple: 5\n"
     ]
    }
   ],
   "source": [
    "numbers = [1, 2, 3, 4, 5, 6, 7, 8, 9] # Declaring the list\n",
    "count_odd = 0\n",
    "count_even = 0\n",
    "for x in numbers:\n",
    "    if not x % 2:\n",
    "            count_even+=1\n",
    "    else:\n",
    "            count_odd+=1\n",
    "print(\"Number of even numbers in list :\",count_even)\n",
    "print(\"Number of odd numbers in list:\",count_odd)\n",
    "\n",
    "numbers = [1, 2, 3, 4, 5, 6, 7, 8, 9] # Declaring the tuple\n",
    "count_odd = 0\n",
    "count_even = 0\n",
    "for x in numbers:\n",
    "    if not x % 2:\n",
    "            count_even+=1\n",
    "    else:\n",
    "            count_odd+=1\n",
    "print(\"Number of even numbers in tuple :\",count_even)\n",
    "print(\"Number of odd numbers in tuple:\",count_odd)"
   ]
  },
  {
   "cell_type": "markdown",
   "metadata": {},
   "source": [
    "**4. Count Positive and Negative Numbers in a List**"
   ]
  },
  {
   "cell_type": "code",
   "execution_count": 66,
   "metadata": {},
   "outputs": [
    {
     "name": "stdout",
     "output_type": "stream",
     "text": [
      "\n",
      "List Entered By the User:  [1, 2, 3, 4, 5, 6, 7, -9, -5, -6, -33]\n",
      "\n",
      "Total Number of Positive Numbers in this List =   7\n",
      "Total Number of Negative Numbers in this List =  4\n"
     ]
    }
   ],
   "source": [
    "NumList = [1,2,3,4,5,6,7,-9,-5,-6,-33]\n",
    "Positive_count = 0\n",
    "Negative_count = 0\n",
    "print(\"\\nList Entered By the User: \",NumList)\n",
    "for j in range(len(NumList)):\n",
    "    if(NumList[j] >= 0):\n",
    "        Positive_count = Positive_count + 1\n",
    "    else:\n",
    "        Negative_count = Negative_count + 1\n",
    "print(\"\\nTotal Number of Positive Numbers in this List =  \", Positive_count)\n",
    "print(\"Total Number of Negative Numbers in this List = \", Negative_count)"
   ]
  },
  {
   "cell_type": "markdown",
   "metadata": {},
   "source": [
    "**5. Print Largest Number in a List**"
   ]
  },
  {
   "cell_type": "code",
   "execution_count": 67,
   "metadata": {},
   "outputs": [
    {
     "name": "stdout",
     "output_type": "stream",
     "text": [
      "2\n"
     ]
    }
   ],
   "source": [
    "def max_num_in_list( list ):\n",
    "    max = list[ 0 ]\n",
    "    for a in list:\n",
    "        if a > max:\n",
    "            max = a\n",
    "    return max\n",
    "print(max_num_in_list([1, 2, -8, 0]))"
   ]
  },
  {
   "cell_type": "markdown",
   "metadata": {},
   "source": [
    "**6. Print Largest and Smallest Number**"
   ]
  },
  {
   "cell_type": "code",
   "execution_count": 68,
   "metadata": {},
   "outputs": [
    {
     "name": "stdout",
     "output_type": "stream",
     "text": [
      "largest elements is:  89\n",
      "Smallest elements is:  21\n"
     ]
    }
   ],
   "source": [
    "number=[54,67,43,89,21,34]\n",
    "#sorting the list\n",
    "number.sort()\n",
    "#print the last element in the list for largest\n",
    "print(\"largest elements is: \",number[5])\n",
    "#print the first element in the list for smallest\n",
    "print(\"Smallest elements is: \",number[0])"
   ]
  },
  {
   "cell_type": "markdown",
   "metadata": {},
   "source": [
    "**7. Python program to find List Difference**"
   ]
  },
  {
   "cell_type": "code",
   "execution_count": 69,
   "metadata": {},
   "outputs": [
    {
     "name": "stdout",
     "output_type": "stream",
     "text": [
      "Difference using method: [1, 2]\n",
      "Difference using operator: [1, 2]\n"
     ]
    }
   ],
   "source": [
    "# Using difference method\n",
    "def list_difference_method(list1, list2):\n",
    "    difference = list(set(list1).difference(list2))\n",
    "    return difference\n",
    "\n",
    "# Using set difference operator\n",
    "def list_difference_operator(list1, list2):\n",
    "    difference = list(set(list1) - set(list2))\n",
    "    return difference\n",
    "\n",
    "# Example lists\n",
    "list_a = [1, 2, 3, 4, 5]\n",
    "list_b = [3, 4, 5, 6, 7]\n",
    "\n",
    "# Finding the difference using the difference method\n",
    "result_method = list_difference_method(list_a, list_b)\n",
    "print(f\"Difference using method: {result_method}\")\n",
    "\n",
    "# Finding the difference using the set difference operator\n",
    "result_operator = list_difference_operator(list_a, list_b)\n",
    "print(f\"Difference using operator: {result_operator}\")\n"
   ]
  },
  {
   "cell_type": "markdown",
   "metadata": {},
   "source": [
    "## **Tuple Programs**"
   ]
  },
  {
   "cell_type": "markdown",
   "metadata": {},
   "source": [
    "**1. Add an Item to tuple**"
   ]
  },
  {
   "cell_type": "code",
   "execution_count": 70,
   "metadata": {},
   "outputs": [
    {
     "name": "stdout",
     "output_type": "stream",
     "text": [
      "Tuple Items =  (10, 20, 30, 40, 50)\n",
      "Tuple Items =  (10, 20, 30, 40, 50, 70)\n",
      "Tuple Items =  (10, 20, 30, 40, 50, 70, 80, 90)\n",
      "Tuple Items =  (30, 40, 50, 11, 22, 33, 44, 90)\n"
     ]
    }
   ],
   "source": [
    "intTuple = (10, 20, 30, 40, 50)\n",
    "print(\"Tuple Items = \", intTuple)\n",
    "intTuple = intTuple + (70,)\n",
    "print(\"Tuple Items = \", intTuple)\n",
    "intTuple = intTuple + (80, 90)\n",
    "print(\"Tuple Items = \", intTuple)\n",
    "intTuple = intTuple[2:5] + (11, 22, 33, 44) + intTuple[7:]\n",
    "print(\"Tuple Items = \", intTuple)"
   ]
  },
  {
   "cell_type": "markdown",
   "metadata": {},
   "source": [
    "**2. Create a Tuple**"
   ]
  },
  {
   "cell_type": "code",
   "execution_count": 71,
   "metadata": {},
   "outputs": [
    {
     "name": "stdout",
     "output_type": "stream",
     "text": [
      "('red', 'blue', 'black')\n"
     ]
    }
   ],
   "source": [
    "thistuple = (\"red\", \"blue\", \"black\")\n",
    "print(thistuple)"
   ]
  },
  {
   "cell_type": "markdown",
   "metadata": {},
   "source": [
    "**3. Create Tuple of Different Types**"
   ]
  },
  {
   "cell_type": "code",
   "execution_count": 72,
   "metadata": {},
   "outputs": [
    {
     "name": "stdout",
     "output_type": "stream",
     "text": [
      "Numeric Tuple Items =  (10, 20, 30, 40, 50)\n",
      "Float Tuple Items =  (10.25, 11.2, 19.37, 41.598)\n",
      "String Tuple Items =  ('orange', 'Mango', 'Grape', 'Apple')\n",
      "Boolean Tuple Items =  (True, False, False, True, True)\n",
      "Mixed Tuple Items =  ('orange', 25, 'Mango', 36.75, False, 10)\n",
      "Nested Tuple Items =  (10, 20, ('orange', 'Mango'), 30)\n",
      "List Tuple Items =  (10, 20, ['Grape', 'Apple'], 70)\n"
     ]
    }
   ],
   "source": [
    "numericTuple = (10, 20, 30, 40, 50)\n",
    "print(\"Numeric Tuple Items = \", numericTuple )\n",
    "floatTuple = (10.25, 11.20, 19.37, 41.598)\n",
    "print(\"Float Tuple Items = \", floatTuple )\n",
    "stringTuple = ('orange', 'Mango', 'Grape', 'Apple')\n",
    "print(\"String Tuple Items = \", stringTuple )\n",
    "booleanTuple = (True, False, False, True, True)\n",
    "print(\"Boolean Tuple Items = \", booleanTuple )\n",
    "mixedTuple = ('orange', 25, 'Mango', 36.75, False, 10)\n",
    "print(\"Mixed Tuple Items = \", mixedTuple )\n",
    "nestedTuple = (10, 20, ('orange', 'Mango'), 30)\n",
    "print(\"Nested Tuple Items = \", nestedTuple )\n",
    "listTuple = (10, 20, ['Grape', 'Apple'], 70)\n",
    "print(\"List Tuple Items = \", listTuple )"
   ]
  },
  {
   "cell_type": "markdown",
   "metadata": {},
   "source": [
    "**4. Remove an Item from Tuple**"
   ]
  },
  {
   "cell_type": "code",
   "execution_count": 73,
   "metadata": {},
   "outputs": [
    {
     "name": "stdout",
     "output_type": "stream",
     "text": [
      "The original list is : [(5, 6, 7), (7, 2, 4, 6), (6, 6, 7), (6, 10, 8)]\n",
      "The Tuple List after removal of element : [(5, 7), (7, 2, 4), (7,), (10, 8)]\n"
     ]
    }
   ],
   "source": [
    "test_list = [(5, 6, 7), (7, 2, 4, 6), (6, 6, 7), (6, 10, 8)]\n",
    "print(f\"The original list is : {test_list}\")\n",
    "N = 6\n",
    "res = [tuple(ele for ele in sub if ele != N) for sub in test_list]\n",
    "print(f\"The Tuple List after removal of element : {res}\")\n"
   ]
  },
  {
   "cell_type": "markdown",
   "metadata": {},
   "source": [
    "**5. Slice a Tuple**"
   ]
  },
  {
   "cell_type": "code",
   "execution_count": 74,
   "metadata": {},
   "outputs": [
    {
     "name": "stdout",
     "output_type": "stream",
     "text": [
      "(5, 4)\n",
      "(2, 4, 3, 5, 4, 6)\n",
      "(6, 7, 8, 6, 1)\n",
      "(2, 4, 3, 5, 4, 6, 7, 8, 6, 1)\n",
      "(3, 5, 4, 6)\n",
      "('H', 'E', 'L', 'L', 'O', ' ', 'W', 'O', 'R', 'L', 'D')\n",
      "('L', 'O', 'W', 'R')\n",
      "('H', 'O', 'R')\n",
      "('L', ' ')\n"
     ]
    }
   ],
   "source": [
    "#create a tuple\n",
    "tuplex = (2, 4, 3, 5, 4, 6, 7, 8, 6, 1)\n",
    "#used tuple[start:stop] the start index is inclusive and the stop index\n",
    "_slice = tuplex[3:5]\n",
    "#is exclusive\n",
    "print(_slice)\n",
    "#if the start index isn't defined, is taken from the beg inning of the tuple\n",
    "_slice = tuplex[:6]\n",
    "print(_slice)\n",
    "#if the end index isn't defined, is taken until the end of the tuple\n",
    "_slice = tuplex[5:]\n",
    "print(_slice)\n",
    "#if neither is defined, returns the full tuple\n",
    "_slice = tuplex[:]\n",
    "print(_slice)\n",
    "#The indexes can be defined with negative values\n",
    "_slice = tuplex[-8:-4]\n",
    "print(_slice)\n",
    "#create another tuple\n",
    "tuplex = tuple(\"HELLO WORLD\")\n",
    "print(tuplex)\n",
    "#step specify an increment between the elements to cut of the tuple\n",
    "#tuple[start:stop:step]\n",
    "_slice = tuplex[2:9:2]\n",
    "print(_slice)\n",
    "#returns a tuple with a jump every 3 items\n",
    "_slice = tuplex[::4]\n",
    "print(_slice)\n",
    "#when step is negative the jump is made back\n",
    "_slice = tuplex[9:2:-4]\n",
    "print(_slice)\n"
   ]
  },
  {
   "cell_type": "markdown",
   "metadata": {},
   "source": [
    "**6. Unpack Tuple Items**"
   ]
  },
  {
   "cell_type": "code",
   "execution_count": 75,
   "metadata": {},
   "outputs": [
    {
     "name": "stdout",
     "output_type": "stream",
     "text": [
      "(4, 8, 3)\n",
      "15\n"
     ]
    }
   ],
   "source": [
    "#create a tuple\n",
    "tuplex = 4, 8, 3\n",
    "print(tuplex)\n",
    "n1, n2, n3 = tuplex\n",
    "#unpack a tuple in variables\n",
    "print(n1 + n2 + n3)\n",
    "#the number of variables must be equal to the number of items of the tuple\n",
    "n1, n2, n3= tuplex\n"
   ]
  },
  {
   "cell_type": "markdown",
   "metadata": {},
   "source": [
    "**7. Create a Tuple with Numbers**"
   ]
  },
  {
   "cell_type": "code",
   "execution_count": 76,
   "metadata": {},
   "outputs": [
    {
     "name": "stdout",
     "output_type": "stream",
     "text": [
      "Tuple Items =  (22,)\n",
      "Tuple Items =  (10, 20, 40, 60, 80, 100)\n"
     ]
    }
   ],
   "source": [
    "nTuple = 22,\n",
    "print(\"Tuple Items = \", nTuple)\n",
    "numTuple = (10, 20, 40, 60, 80, 100)\n",
    "print(\"Tuple Items = \", numTuple)"
   ]
  },
  {
   "cell_type": "markdown",
   "metadata": {},
   "source": [
    "**8. Convert Tuple to String**"
   ]
  },
  {
   "cell_type": "code",
   "execution_count": 77,
   "metadata": {},
   "outputs": [
    {
     "name": "stdout",
     "output_type": "stream",
     "text": [
      "chase\n"
     ]
    }
   ],
   "source": [
    "tuple1 = ('c', 'h', 'a', 's', 'e')\n",
    "#tuple to string\n",
    "str = ''.join(tuple1)\n",
    "print(str)"
   ]
  },
  {
   "cell_type": "markdown",
   "metadata": {},
   "source": [
    "**9. Convert Tuple to Dictionary**"
   ]
  },
  {
   "cell_type": "code",
   "execution_count": 78,
   "metadata": {},
   "outputs": [
    {
     "name": "stdout",
     "output_type": "stream",
     "text": [
      "((11, 'eleven'), (21, 'mike'), (19, 'dustin'), (46, 'caleb'))\n",
      "{('eleven', 11), ('caleb', 46), ('mike', 21), ('dustin', 19)}\n"
     ]
    }
   ],
   "source": [
    "tup = ((11, \"eleven\"), (21, \"mike\"), (19, \"dustin\"), (46, \"caleb\"))\n",
    "print(tup)\n",
    "dct = {(y, x) for x, y in tup} # Dictionary comprehension\n",
    "print(dct)"
   ]
  },
  {
   "cell_type": "markdown",
   "metadata": {},
   "source": [
    "## **Dictionary Programs**"
   ]
  },
  {
   "cell_type": "markdown",
   "metadata": {},
   "source": [
    "**1. Add Key-Value Pair to a Dictionary**"
   ]
  },
  {
   "cell_type": "code",
   "execution_count": 79,
   "metadata": {},
   "outputs": [
    {
     "name": "stdout",
     "output_type": "stream",
     "text": [
      "{'India': 91, 'UK': 44, 'USA': 1}\n",
      "After adding\n",
      "{'India': 91, 'UK': 44, 'USA': 1, 'Spain': 34}\n"
     ]
    }
   ],
   "source": [
    "CountryCodeDict = {\"India\": 91, \"UK\" : 44 , \"USA\" : 1}\n",
    "print(CountryCodeDict)\n",
    "CountryCodeDict[\"Spain\"]= 34\n",
    "print(\"After adding\")\n",
    "print(CountryCodeDict)"
   ]
  },
  {
   "cell_type": "markdown",
   "metadata": {},
   "source": [
    "**2. Check if a Given key exists in a Dictionary**"
   ]
  },
  {
   "cell_type": "code",
   "execution_count": 80,
   "metadata": {},
   "outputs": [
    {
     "name": "stdout",
     "output_type": "stream",
     "text": [
      "Key exist\n"
     ]
    }
   ],
   "source": [
    "CountryCodeDict = {\"India\": 91, \"UK\" : 44 , \"USA\" : 1}\n",
    "key = \"India\"\n",
    "for i in CountryCodeDict.keys():\n",
    "    if i == key:\n",
    "        print(\"Key exist\")\n",
    "    "
   ]
  },
  {
   "cell_type": "markdown",
   "metadata": {},
   "source": [
    "**3. Count Words in a String using Dictionary**"
   ]
  },
  {
   "cell_type": "code",
   "execution_count": 81,
   "metadata": {},
   "outputs": [
    {
     "name": "stdout",
     "output_type": "stream",
     "text": [
      "Dictionary Items :   {'my': 1, 'name': 1, 'is': 1, 'subhash': 2, 'dixit': 2}\n"
     ]
    }
   ],
   "source": [
    "string = \"My name is Subhash Subhash Dixit Dixit\"\n",
    "words = []\n",
    "# To Avoid Case-sensitiveness of the string\n",
    "words = string.lower().split()\n",
    "frequency = [words.count(i) for i in words]\n",
    "myDict = dict(zip(words, frequency))\n",
    "print(\"Dictionary Items :  \",  myDict)"
   ]
  },
  {
   "cell_type": "markdown",
   "metadata": {},
   "source": [
    "**4. Create Dictionary of keys from 1 to n and values are square of keys**"
   ]
  },
  {
   "cell_type": "code",
   "execution_count": 82,
   "metadata": {},
   "outputs": [
    {
     "name": "stdout",
     "output_type": "stream",
     "text": [
      "{1: 1, 2: 4, 3: 9, 4: 16, 5: 25, 6: 36, 7: 49, 8: 64, 9: 81, 10: 100, 11: 121, 12: 144, 13: 169, 14: 196}\n"
     ]
    }
   ],
   "source": [
    "d=dict()\n",
    "for x in range(1,15):\n",
    "    d[x]=x**2\n",
    "print(d)\n"
   ]
  },
  {
   "cell_type": "markdown",
   "metadata": {},
   "source": [
    "**5. Create Dictionary of Numbers 1 to n in (x, x*x) form**"
   ]
  },
  {
   "cell_type": "code",
   "execution_count": 83,
   "metadata": {},
   "outputs": [
    {
     "name": "stdout",
     "output_type": "stream",
     "text": [
      "\n",
      "Dictionary =  {1: 1, 2: 4, 3: 9, 4: 16, 5: 25}\n"
     ]
    }
   ],
   "source": [
    "number = 5\n",
    "myDict = {}\n",
    "for x in range(1, number + 1):\n",
    "    myDict[x] = x * x\n",
    "print(\"\\nDictionary = \", myDict)"
   ]
  },
  {
   "cell_type": "markdown",
   "metadata": {},
   "source": [
    "**6. Map two lists into a Dictionary**"
   ]
  },
  {
   "cell_type": "code",
   "execution_count": 84,
   "metadata": {},
   "outputs": [
    {
     "name": "stdout",
     "output_type": "stream",
     "text": [
      "Dictionary Items  :   {'name': 'riya', 'age': 24, 'job': 'Developer'}\n"
     ]
    }
   ],
   "source": [
    "keys = ['name', 'age', 'job']\n",
    "values = ['riya', 24, 'Developer']\n",
    "myDict = {k: v for k, v in zip(keys, values)}\n",
    "print(\"Dictionary Items  :  \",  myDict)"
   ]
  },
  {
   "cell_type": "markdown",
   "metadata": {},
   "source": [
    "**7. Merge Two Dictionaries**"
   ]
  },
  {
   "cell_type": "code",
   "execution_count": 85,
   "metadata": {},
   "outputs": [
    {
     "name": "stdout",
     "output_type": "stream",
     "text": [
      "{1: 'a', 2: 'c', 4: 'd'}\n"
     ]
    }
   ],
   "source": [
    "dict_1 = {1: 'a', 2: 'b'}\n",
    "dict_2 = {2: 'c', 4: 'd'}\n",
    "print(dict_1 | dict_2)\n"
   ]
  },
  {
   "cell_type": "markdown",
   "metadata": {},
   "source": [
    "**8. Multiply All Items in a Dictionary**"
   ]
  },
  {
   "cell_type": "code",
   "execution_count": 86,
   "metadata": {},
   "outputs": [
    {
     "name": "stdout",
     "output_type": "stream",
     "text": [
      "The reuslt of multiplying keys in a dictionary is : \n",
      "6\n"
     ]
    }
   ],
   "source": [
    "my_dict = {'Jane':1,'Will':2,'Mark':3}\n",
    "my_result = 1\n",
    "for key in my_dict:\n",
    "   my_result = my_result * my_dict[key]\n",
    "print(\"The reuslt of multiplying keys in a dictionary is : \")\n",
    "print(my_result)"
   ]
  },
  {
   "cell_type": "markdown",
   "metadata": {},
   "source": [
    "**9. Remove Given Key from a Dictionary**"
   ]
  },
  {
   "cell_type": "code",
   "execution_count": 87,
   "metadata": {},
   "outputs": [
    {
     "name": "stdout",
     "output_type": "stream",
     "text": [
      "Updated dictionary: {'b': 2, 'c': 3, 'd': 4}\n"
     ]
    }
   ],
   "source": [
    "d = {'a':1,'b':2,'c':3,'d':4}\n",
    "key = 'a'\n",
    "if key in d:\n",
    "    del d[key]\n",
    "else:\n",
    "    print(\"Key not found!\")\n",
    "print(\"Updated dictionary:\",d)\n"
   ]
  },
  {
   "cell_type": "markdown",
   "metadata": {},
   "source": [
    "**10. Find Sum of Items in a Dictionary**"
   ]
  },
  {
   "cell_type": "code",
   "execution_count": 101,
   "metadata": {},
   "outputs": [
    {
     "name": "stdout",
     "output_type": "stream",
     "text": [
      "Dictionary:  {'x': 455, 'y': 223, 'z': 300, 'p': 908}\n",
      "Sum : 1886\n"
     ]
    }
   ],
   "source": [
    "# sum of values in dictionary\n",
    "#initialisation\n",
    "dic={ 'x':455, 'y':223, 'z':300, 'p':908 }\n",
    "print(\"Dictionary: \", dic)\n",
    "sum = 0\n",
    "for value in dic.values():\n",
    "    sum = sum + value\n",
    "print(f\"Sum : {sum}\")"
   ]
  },
  {
   "cell_type": "markdown",
   "metadata": {},
   "source": [
    "## **Set Programs**"
   ]
  },
  {
   "cell_type": "markdown",
   "metadata": {},
   "source": [
    "**1. Program to create a Set**"
   ]
  },
  {
   "cell_type": "code",
   "execution_count": 102,
   "metadata": {},
   "outputs": [
    {
     "name": "stdout",
     "output_type": "stream",
     "text": [
      "{1, 2, 3}\n",
      "{'Hello', 1.0, (1, 2, 3)}\n"
     ]
    }
   ],
   "source": [
    "# Different types of sets in Python\n",
    "# set of integers\n",
    "my_set = {1, 2, 3}\n",
    "print(my_set)\n",
    "# set of mixed datatypes\n",
    "my_set = {1.0, \"Hello\", (1, 2, 3)}\n",
    "print(my_set)"
   ]
  },
  {
   "cell_type": "markdown",
   "metadata": {},
   "source": [
    "**2. Count Even and Odd Numbers in Set**"
   ]
  },
  {
   "cell_type": "code",
   "execution_count": 107,
   "metadata": {},
   "outputs": [
    {
     "name": "stdout",
     "output_type": "stream",
     "text": [
      "Number of even numbers : 4\n",
      "Number of odd numbers : 5\n"
     ]
    }
   ],
   "source": [
    "numbers = (1, 2, 3, 4, 5, 6, 7, 8, 9) # Declaring the tuple\n",
    "count_odd = 0\n",
    "count_even = 0\n",
    "for x in numbers:\n",
    "        if not x % 2:\n",
    "                count_even+=1\n",
    "        else:\n",
    "                count_odd+=1\n",
    "print(\"Number of even numbers :\",count_even)\n",
    "print(\"Number of odd numbers :\",count_odd)"
   ]
  },
  {
   "cell_type": "markdown",
   "metadata": {},
   "source": [
    "**3. Count Positive and Negative Numbers in Set**"
   ]
  },
  {
   "cell_type": "code",
   "execution_count": 109,
   "metadata": {},
   "outputs": [
    {
     "name": "stdout",
     "output_type": "stream",
     "text": [
      "Positive numbers in the list:  4\n",
      "Negative numbers in the list:  3\n"
     ]
    }
   ],
   "source": [
    "# Python program to count positive and negative numbers in a List\n",
    "# list of numbers{\n",
    "list1 = {10, -21, 4, -45, 66, -93, 1}\n",
    "pos_count, neg_count = 0, 0\n",
    "# iterating each number in list\n",
    "for num in list1:\n",
    "\t# checking condition\n",
    "\tif num >= 0:\n",
    "\t\tpos_count += 1\n",
    "\telse:\n",
    "\t\tneg_count += 1\n",
    "print(\"Positive numbers in the list: \", pos_count)\n",
    "print(\"Negative numbers in the list: \", neg_count)\n"
   ]
  },
  {
   "cell_type": "markdown",
   "metadata": {},
   "source": [
    "**4. Iterate over sets**"
   ]
  },
  {
   "cell_type": "code",
   "execution_count": 110,
   "metadata": {},
   "outputs": [
    {
     "name": "stdout",
     "output_type": "stream",
     "text": [
      "0 1 2 3 4 5 \n",
      "\n",
      "Creating a set using string:\n",
      "w r c o 3 e s u "
     ]
    }
   ],
   "source": [
    "#Create a set\n",
    "num_set = set([0, 1, 2, 3, 4, 5])\n",
    "for n in num_set:\n",
    "  print(n, end=' ')\n",
    "print(\"\\n\\nCreating a set using string:\")\n",
    "char_set = set(\"w3resource\")\n",
    "# Iterating using for loop\n",
    "for val in char_set:\n",
    "    print(val, end=' ')"
   ]
  },
  {
   "cell_type": "markdown",
   "metadata": {},
   "source": [
    "**5. Print Largest Set Item**"
   ]
  },
  {
   "cell_type": "code",
   "execution_count": 111,
   "metadata": {},
   "outputs": [
    {
     "name": "stdout",
     "output_type": "stream",
     "text": [
      "Set Items =  {32, 98, 67, 36, 11, 80, 19, 25, 91}\n",
      "Largest Item in mxSet Set =  98\n"
     ]
    }
   ],
   "source": [
    "mxSet = {25, 67, 36, 98, 11, 32, 19, 80, 91}\n",
    "print(\"Set Items = \", mxSet)\n",
    "print(\"Largest Item in mxSet Set = \", max(mxSet))"
   ]
  },
  {
   "cell_type": "markdown",
   "metadata": {},
   "source": [
    "**6. Find Length of a set**"
   ]
  },
  {
   "cell_type": "code",
   "execution_count": 112,
   "metadata": {},
   "outputs": [
    {
     "name": "stdout",
     "output_type": "stream",
     "text": [
      "Original set elements:\n",
      "{2, 3, 20, 5, 10, 15}\n",
      "<class 'set'>\n",
      "\n",
      "Length of the said set:\n",
      "6\n",
      "Original set elements:\n",
      "{5}\n",
      "<class 'set'>\n",
      "\n",
      "Length of the said set:\n",
      "1\n",
      "Original set elements:\n",
      "{5, 7}\n",
      "<class 'set'>\n",
      "\n",
      "Length of the said set:\n",
      "2\n"
     ]
    }
   ],
   "source": [
    "#Create a set\n",
    "setn = {5, 10, 3, 15, 2, 20}\n",
    "print(\"Original set elements:\")\n",
    "print(setn)\n",
    "print(type(setn))\n",
    "print(\"\\nLength of the said set:\")\n",
    "print(len(setn))\n",
    "setn = {5, 5, 5, 5, 5, 5}\n",
    "print(\"Original set elements:\")\n",
    "print(setn)\n",
    "print(type(setn))\n",
    "print(\"\\nLength of the said set:\")\n",
    "print(len(setn))\n",
    "setn = {5, 5, 5, 5, 5, 5, 7}\n",
    "print(\"Original set elements:\")\n",
    "print(setn)\n",
    "print(type(setn))\n",
    "print(\"\\nLength of the said set:\")\n",
    "print(len(setn))\n"
   ]
  },
  {
   "cell_type": "markdown",
   "metadata": {},
   "source": [
    "**7. Print Negative Numbers in Set**"
   ]
  },
  {
   "cell_type": "code",
   "execution_count": 115,
   "metadata": {},
   "outputs": [
    {
     "name": "stdout",
     "output_type": "stream",
     "text": [
      "-9 -88 "
     ]
    }
   ],
   "source": [
    "# print negative Numbers in a List\n",
    "# input of list\n",
    "li=[1,2,3,4,5,78,-9,-88]\n",
    "#traversing\n",
    "for i in li:\n",
    "    # checking condition\n",
    "    if i<0:\n",
    "       print(i, end = \" \")"
   ]
  },
  {
   "cell_type": "markdown",
   "metadata": {},
   "source": [
    "**8. Print Odd Numbers in Set**"
   ]
  },
  {
   "cell_type": "code",
   "execution_count": 116,
   "metadata": {},
   "outputs": [
    {
     "name": "stdout",
     "output_type": "stream",
     "text": [
      "Odd Numbers: {3, 5, 7, 9, 11, 13, 15, 17, 19}\n",
      "Prime Numbers: {2, 3, 4, 5, 7, 11, 13, 17, 19, 23}\n"
     ]
    }
   ],
   "source": [
    "odd=set([x*2+1 for x in range(1,10)])\n",
    "print(\"Odd Numbers:\", odd)\n",
    "prime=set()\n",
    "for i in range(2,25):\n",
    "  j=2\n",
    "  flag=0\n",
    "  while j<i/2:\n",
    "    if i%j==0:\n",
    "      flag=1\n",
    "    j+=1\n",
    "  if flag==0:\n",
    "    prime.add(i)\n",
    "print(\"Prime Numbers:\", prime)"
   ]
  },
  {
   "cell_type": "markdown",
   "metadata": {},
   "source": [
    "## **Programs on Series**"
   ]
  },
  {
   "cell_type": "markdown",
   "metadata": {},
   "source": [
    "**1. Find Sum of Arithmetic Progression Series**"
   ]
  },
  {
   "cell_type": "code",
   "execution_count": 135,
   "metadata": {},
   "outputs": [
    {
     "name": "stdout",
     "output_type": "stream",
     "text": [
      "2 4 6 8 10 \n",
      "The Sum of Arithmetic Progression Series =  30.0\n",
      "The tn Term of Arithmetic Progression Series =  10\n"
     ]
    }
   ],
   "source": [
    "first_Num = 2\n",
    "Total_num = 5\n",
    "diff = 2\n",
    "# a, a+1d, a+2d\n",
    "for i in range(Total_num):\n",
    "    print(f\"{first_Num + i*diff}\", end = \" \")\n",
    "# Calculation\n",
    "total = (Total_num * (2 * first_Num + (Total_num - 1) * diff)) / 2\n",
    "tn = first_Num + (Total_num - 1) * diff\n",
    "# Print the Output\n",
    "print(\"\\nThe Sum of Arithmetic Progression Series = \" , total)\n",
    "print(\"The tn Term of Arithmetic Progression Series = \" , tn)"
   ]
  },
  {
   "cell_type": "markdown",
   "metadata": {},
   "source": [
    "**2. Find Sum of Series 1²+2²+3²+….+n²**"
   ]
  },
  {
   "cell_type": "code",
   "execution_count": 129,
   "metadata": {},
   "outputs": [
    {
     "name": "stdout",
     "output_type": "stream",
     "text": [
      "The Sum of Series upto 5  = 55.0\n"
     ]
    }
   ],
   "source": [
    "number = 5\n",
    "total = 0\n",
    "# Calculation\n",
    "total = (number * (number + 1) * (2 * number + 1)) / 6\n",
    "# Print the Output\n",
    "print(\"The Sum of Series upto {0}  = {1}\".format(number, total))"
   ]
  },
  {
   "cell_type": "markdown",
   "metadata": {},
   "source": [
    "Reference: https://www.chase2learn.com/python-programs-for-beginner-to-advanced/"
   ]
  },
  {
   "cell_type": "markdown",
   "metadata": {},
   "source": [
    "# **<center>THE END</center>**"
   ]
  }
 ],
 "metadata": {
  "kernelspec": {
   "display_name": "Python 3",
   "language": "python",
   "name": "python3"
  },
  "language_info": {
   "codemirror_mode": {
    "name": "ipython",
    "version": 3
   },
   "file_extension": ".py",
   "mimetype": "text/x-python",
   "name": "python",
   "nbconvert_exporter": "python",
   "pygments_lexer": "ipython3",
   "version": "3.10.5"
  },
  "orig_nbformat": 4
 },
 "nbformat": 4,
 "nbformat_minor": 2
}
