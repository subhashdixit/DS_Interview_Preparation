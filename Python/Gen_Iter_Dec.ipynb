{
 "cells": [
  {
   "attachments": {},
   "cell_type": "markdown",
   "metadata": {},
   "source": [
    "# **What are Iterators, Generators And Decorators in Python?**"
   ]
  },
  {
   "attachments": {},
   "cell_type": "markdown",
   "metadata": {},
   "source": [
    "## **Iterators**\n",
    "- An iterator is an object that can be iterated upon which means that you can traverse through all the values. Lists, tuples, dictionaries, and sets are all iterable objects.\n",
    "- To create an object as an iterator you have to implement the methods __iter__() and __next__() to your object where —\n",
    "    - __iter__() returns the iterator object itself. This is used in for and in statements.\n",
    "    - __next__() method returns the next value in the sequence. In order to avoid the iteration to go on forever, raise the StopIteration exception."
   ]
  },
  {
   "cell_type": "code",
   "execution_count": 27,
   "metadata": {},
   "outputs": [
    {
     "name": "stdout",
     "output_type": "stream",
     "text": [
      "[4, 5, 6, 7, 8, 9]\n",
      "4,5,6,7,8,9,10,11,12,13,14,"
     ]
    }
   ],
   "source": [
    "class example_range:\n",
    "    def __init__(self, n):\n",
    "        self.i = 4\n",
    "        self.n = n\n",
    "    def __iter__(self):\n",
    "        return self\n",
    "    def __next__(self):\n",
    "        if self.i < self.n:\n",
    "            i = self.i\n",
    "            self.i += 1\n",
    "            return i\n",
    "        else:\n",
    "            raise StopIteration()\n",
    "n= example_range(10)\n",
    "print(list(n))\n",
    "n = example_range(15)\n",
    "for i in n : \n",
    "    print (i, end=',')\n"
   ]
  },
  {
   "cell_type": "code",
   "execution_count": 26,
   "metadata": {},
   "outputs": [
    {
     "name": "stdout",
     "output_type": "stream",
     "text": [
      "Subhash,Dixit,Anushka,Biswas,\n",
      "\n",
      "Subhash,Dixit,Anushka,Biswas,\n",
      "\n",
      "0,1,2,3,4,\n",
      "\n",
      "0,1,2,3,4,\n",
      "\n"
     ]
    }
   ],
   "source": [
    "# Iterate through a list of string elements \n",
    "\n",
    "# Using iterator\n",
    "l = ['Subhash','Dixit','Anushka','Biswas']\n",
    "iterator = iter(l)\n",
    "while True:\n",
    "    try:\n",
    "        x = iterator.__next__()\n",
    "        print(x, end=',')\n",
    "    except StopIteration as e:\n",
    "        print(\"\\n\")\n",
    "        break\n",
    "\n",
    "# Using For loop\n",
    "l = ['Subhash','Dixit','Anushka','Biswas']\n",
    "for i in l:\n",
    "    print(i,end = \",\")\n",
    "print(\"\\n\")\n",
    "\n",
    "# Iterate through a list of integer elements \n",
    "\n",
    "# Using iterator\n",
    "l = range(5)\n",
    "iterator = iter(l)\n",
    "while True:\n",
    "    try:\n",
    "        x = iterator.__next__()\n",
    "        print(x, end=',')\n",
    "    except StopIteration as e:\n",
    "        print(\"\\n\")\n",
    "        break\n",
    "\n",
    "# Using For loop\n",
    "l = range(5)\n",
    "for i in l:\n",
    "    print(i,end = \",\")\n",
    "print(\"\\n\")\n"
   ]
  },
  {
   "attachments": {},
   "cell_type": "markdown",
   "metadata": {},
   "source": [
    "**Why use iterators?**\n",
    "- Iterators allow us to create and work with lazy iterable which means you can use an iterator for the lazy evaluation. This allows you to get the next element in the list without re-calculating all of the previous elements. Iterators can save us a lot of memory and CPU time.\n",
    "- Python has many built-in classes that are iterators, e.g — enumerate, map ,filer , zip and reversed etc. objects are iterators.\n",
    "\n"
   ]
  },
  {
   "attachments": {},
   "cell_type": "markdown",
   "metadata": {},
   "source": [
    "## **Generators**\n",
    "- Generator functions act just like regular functions with just one difference they use the Python yield keyword instead of return. \n",
    "- A generator function is a function that returns an iterator. \n",
    "- A generator expression is an expression that returns an iterator. Generator objects are used either by calling the next method on the generator object or using the generator object in a “for in” loop."
   ]
  },
  {
   "cell_type": "code",
   "execution_count": 35,
   "metadata": {},
   "outputs": [
    {
     "name": "stdout",
     "output_type": "stream",
     "text": [
      "0,1,2,3,4,5,6,7,8,9,"
     ]
    }
   ],
   "source": [
    "def test_sequence():\n",
    "    num = 0\n",
    "    while num < 10:\n",
    "        yield num\n",
    "        num += 1\n",
    "for i in test_sequence():\n",
    "       print(i, end=\",\")"
   ]
  },
  {
   "attachments": {},
   "cell_type": "markdown",
   "metadata": {},
   "source": [
    "- A return statement terminates a function entirely but a yield statement pauses the function saving all its states and later continues from there on successive calls."
   ]
  },
  {
   "attachments": {},
   "cell_type": "markdown",
   "metadata": {},
   "source": [
    "**Python Generators with a Loop**"
   ]
  },
  {
   "cell_type": "code",
   "execution_count": 41,
   "metadata": {},
   "outputs": [
    {
     "name": "stdout",
     "output_type": "stream",
     "text": [
      "n a j o r T \n",
      "\n",
      "n a j o r T "
     ]
    }
   ],
   "source": [
    "#Reverse a string\n",
    "#  Using Generator\n",
    "def reverse_str(test_str):\n",
    "    length = len(test_str)\n",
    "    for i in range(length - 1, -1, -1):\n",
    "        yield test_str[i]\n",
    "for char in reverse_str(\"Trojan\"):\n",
    "    print(char,end =\" \")\n",
    "print(\"\\n\")\n",
    "\n",
    "# Using for loop \n",
    "text = \"Trojan\"\n",
    "for char in range(len(text)-1,-1,-1):\n",
    "    print(text[char],end =\" \")"
   ]
  },
  {
   "attachments": {},
   "cell_type": "markdown",
   "metadata": {},
   "source": [
    "**Generator Expression**\n",
    "- Generator expressions can be used as function arguments. Just like list comprehensions, generator expressions allow you to quickly create a generator object within minutes with just a few lines of code.**"
   ]
  },
  {
   "cell_type": "code",
   "execution_count": 43,
   "metadata": {},
   "outputs": [
    {
     "name": "stdout",
     "output_type": "stream",
     "text": [
      "[1, 27, 216, 1000]\n",
      "<class 'generator'>\n",
      "(1, 27, 216, 1000)\n"
     ]
    }
   ],
   "source": [
    "# Initialize the list\n",
    "test_list = [1, 3, 6, 10]\n",
    "\n",
    "# list comprehension\n",
    "list_comprehension = [x**3 for x in test_list]\n",
    "\n",
    "# generator expression\n",
    "test_generator = (x**3 for x in test_list)\n",
    "\n",
    "print(list_comprehension)\n",
    "print(type(test_generator))\n",
    "print(tuple(test_generator))"
   ]
  },
  {
   "attachments": {},
   "cell_type": "markdown",
   "metadata": {},
   "source": [
    "- The major difference between a list comprehension and a generator expression is that a list comprehension produces the entire list while the generator expression produces one item at a time as lazy evaluation. For this reason, compared to a list comprehension, a generator expression is much more memory efficient which can be understood from the profiling code below —"
   ]
  },
  {
   "cell_type": "code",
   "execution_count": 45,
   "metadata": {},
   "outputs": [
    {
     "name": "stdout",
     "output_type": "stream",
     "text": [
      "List comprehension size(bytes): 85176\n",
      "Generator Expression object(bytes): 104\n"
     ]
    }
   ],
   "source": [
    "import sys\n",
    "\n",
    "# List comprehension size\n",
    "cubed_list = [i ** 3 for i in range(10000)]\n",
    "print(\"List comprehension size(bytes):\", sys.getsizeof(cubed_list))\n",
    "\n",
    "# Generator comprehension size\n",
    "cubed_generator = (i ** 3 for i in range(10000))\n",
    "print(\"Generator Expression object(bytes):\", sys.getsizeof(cubed_generator))"
   ]
  },
  {
   "attachments": {},
   "cell_type": "markdown",
   "metadata": {},
   "source": [
    "## **Decorator**\n",
    "- A decorator in Python is any callable Python object that is used to modify a function or a class. It takes in a function, adds some functionality, and returns it. Decorators are a very powerful and useful tool in Python since it allows programmers to modify/control the behaviour of a function or class. Decorators are usually called before the definition of a function you want to decorate. There are two different kinds of decorators in Python:\n",
    "    - Function decorators\n",
    "    - Class decorators"
   ]
  },
  {
   "cell_type": "code",
   "execution_count": 51,
   "metadata": {},
   "outputs": [
    {
     "name": "stdout",
     "output_type": "stream",
     "text": [
      "Before calling sqr\n",
      "16\n",
      "After calling sqr\n"
     ]
    }
   ],
   "source": [
    "def test_decorator(func):\n",
    "    def function_wrapper(x):\n",
    "        print(\"Before calling \" + func.__name__)\n",
    "        res = func(x)\n",
    "        print(res)\n",
    "        print(\"After calling \" + func.__name__)\n",
    "    return function_wrapper\n",
    "\n",
    "@test_decorator\n",
    "def sqr(n):\n",
    "    return n ** 2\n",
    "sqr(4)"
   ]
  },
  {
   "attachments": {},
   "cell_type": "markdown",
   "metadata": {},
   "source": [
    "**Multiple Decorators to a Single Function**\n",
    "- When using Multiple Decorators for a single function, the decorators will be applied in the order they’ve been called."
   ]
  },
  {
   "cell_type": "code",
   "execution_count": 52,
   "metadata": {},
   "outputs": [
    {
     "data": {
      "text/plain": [
       "['mother', 'of', 'dragons']"
      ]
     },
     "execution_count": 52,
     "metadata": {},
     "output_type": "execute_result"
    }
   ],
   "source": [
    "#  Aplying decorator to lowercase the string first and then split\n",
    "def lowercase_decorator(function):\n",
    "    def wrapper():\n",
    "        func = function()\n",
    "        make_lowercase = func.lower()\n",
    "        return make_lowercase\n",
    "    return wrapper\n",
    "\n",
    "def split_string(function):\n",
    "    def wrapper():\n",
    "        func = function()\n",
    "        split_string = func.split()\n",
    "        return split_string\n",
    "    return wrapper\n",
    "\n",
    "@split_string\n",
    "@lowercase_decorator\n",
    "def test_func():\n",
    "    return 'MOTHER OF DRAGONS'\n",
    "test_func()"
   ]
  },
  {
   "cell_type": "code",
   "execution_count": 65,
   "metadata": {},
   "outputs": [
    {
     "name": "stdout",
     "output_type": "stream",
     "text": [
      "50\n"
     ]
    }
   ],
   "source": [
    "#  Aplying decorator to sqwuare the number first and then multiply by 2\n",
    "def square(function):\n",
    "    def wrapper():\n",
    "        func = function()\n",
    "        sq = func*func\n",
    "        return sq\n",
    "\n",
    "    return wrapper\n",
    "\n",
    "def multiply_by_2(function):\n",
    "    def wrapper():\n",
    "        func1 = function()\n",
    "        multiply = func1*2\n",
    "        return multiply\n",
    "    \n",
    "    return wrapper\n",
    "\n",
    "@multiply_by_2\n",
    "@square\n",
    "def test_func():\n",
    "    return 5\n",
    "\n",
    "r = test_func()\n",
    "print(r)"
   ]
  },
  {
   "attachments": {},
   "cell_type": "markdown",
   "metadata": {},
   "source": [
    "**References**\n",
    "- https://rishikonapure.medium.com/what-are-iterators-generators-and-decorators-in-python-d3f9064184c6\n",
    "- https://medium.com/nerd-for-tech/python-iterators-and-iterables-904abf5518e7"
   ]
  },
  {
   "attachments": {},
   "cell_type": "markdown",
   "metadata": {},
   "source": [
    "## **<center>THE END</center>**"
   ]
  }
 ],
 "metadata": {
  "kernelspec": {
   "display_name": "Python 3",
   "language": "python",
   "name": "python3"
  },
  "language_info": {
   "codemirror_mode": {
    "name": "ipython",
    "version": 3
   },
   "file_extension": ".py",
   "mimetype": "text/x-python",
   "name": "python",
   "nbconvert_exporter": "python",
   "pygments_lexer": "ipython3",
   "version": "3.10.1"
  },
  "orig_nbformat": 4
 },
 "nbformat": 4,
 "nbformat_minor": 2
}
