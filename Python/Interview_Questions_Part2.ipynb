{
 "cells": [
  {
   "cell_type": "markdown",
   "metadata": {},
   "source": [
    "# **Interview Questions Part-1**"
   ]
  },
  {
   "cell_type": "markdown",
   "metadata": {},
   "source": [
    "**1. Reverse a String**\n",
    "* Question: Reverse a given string."
   ]
  },
  {
   "cell_type": "code",
   "execution_count": 1,
   "metadata": {},
   "outputs": [
    {
     "data": {
      "text/plain": [
       "'hsahbuS'"
      ]
     },
     "execution_count": 1,
     "metadata": {},
     "output_type": "execute_result"
    }
   ],
   "source": [
    "def reverse_str(s):\n",
    "    return s[ : :-1]\n",
    "reverse_str(\"Subhash\")"
   ]
  },
  {
   "cell_type": "markdown",
   "metadata": {},
   "source": [
    "**2. Check Palindrome**\n",
    "* Question: Check if a string is a palindrome."
   ]
  },
  {
   "cell_type": "code",
   "execution_count": 3,
   "metadata": {},
   "outputs": [
    {
     "data": {
      "text/plain": [
       "True"
      ]
     },
     "execution_count": 3,
     "metadata": {},
     "output_type": "execute_result"
    }
   ],
   "source": [
    "def check_palindrome(s):\n",
    "    return s==s[::-1]\n",
    "check_palindrome(\"level\")"
   ]
  },
  {
   "cell_type": "markdown",
   "metadata": {},
   "source": [
    "**3. Find Factorial**\n",
    "* Question: Calculate the factorial of a number."
   ]
  },
  {
   "cell_type": "code",
   "execution_count": 9,
   "metadata": {},
   "outputs": [
    {
     "data": {
      "text/plain": [
       "24"
      ]
     },
     "execution_count": 9,
     "metadata": {},
     "output_type": "execute_result"
    }
   ],
   "source": [
    "def fact(n):\n",
    "    factorial = 1\n",
    "    if n<=1:\n",
    "        return 1\n",
    "    while n>0:\n",
    "        factorial = factorial * n\n",
    "        n = n-1\n",
    "    return factorial\n",
    "fact(4)"
   ]
  },
  {
   "cell_type": "markdown",
   "metadata": {},
   "source": [
    "**4. Fibonacci Series**\n",
    "* Question: Generate the nth Fibonacci number."
   ]
  },
  {
   "cell_type": "code",
   "execution_count": 15,
   "metadata": {},
   "outputs": [
    {
     "data": {
      "text/plain": [
       "1"
      ]
     },
     "execution_count": 15,
     "metadata": {},
     "output_type": "execute_result"
    }
   ],
   "source": [
    "def fib(n):\n",
    "    if n<=1:\n",
    "        return 1\n",
    "    \n",
    "    first = 0\n",
    "    second = 1\n",
    "    fibocacci = []\n",
    "    fibocacci.append(first)\n",
    "    fibocacci.append(second)\n",
    "    while n-2>0:\n",
    "        next = first + second\n",
    "        first = second\n",
    "        second = next\n",
    "        fibocacci.append(next)\n",
    "        n = n -1\n",
    "    \n",
    "    return fibocacci\n",
    "fib(1)"
   ]
  },
  {
   "cell_type": "markdown",
   "metadata": {},
   "source": [
    "**5. First Unique Character in a String**\n",
    "* Question: Given a string, find the first non-repeating character in it and return its index. If it doesn't exist, return -1."
   ]
  },
  {
   "cell_type": "code",
   "execution_count": 27,
   "metadata": {},
   "outputs": [
    {
     "data": {
      "text/plain": [
       "dict_keys(['s', 'u', 'b', 'h', 'a'])"
      ]
     },
     "execution_count": 27,
     "metadata": {},
     "output_type": "execute_result"
    }
   ],
   "source": [
    "def unique_string(s):\n",
    "    char_count = {}\n",
    "    for char in s.lower():\n",
    "        if char in char_count.keys():\n",
    "            pass\n",
    "        else:\n",
    "            char_count[char] = 1\n",
    "    return char_count.keys()\n",
    "unique_string(\"SubhashSubhash\")\n"
   ]
  },
  {
   "cell_type": "markdown",
   "metadata": {},
   "source": [
    "**6. Valid Anagram**\n",
    "* Question: Given two strings s and t, write a function to determine if t is an anagram of s."
   ]
  },
  {
   "cell_type": "code",
   "execution_count": 30,
   "metadata": {},
   "outputs": [
    {
     "data": {
      "text/plain": [
       "True"
      ]
     },
     "execution_count": 30,
     "metadata": {},
     "output_type": "execute_result"
    }
   ],
   "source": [
    "from collections import Counter\n",
    "\n",
    "def is_anagram(s, t):\n",
    "    return Counter(s) == Counter(t)\n",
    "\n",
    "is_anagram(\"below\",\"welbo\")"
   ]
  },
  {
   "cell_type": "markdown",
   "metadata": {},
   "source": [
    "**7. Second highest number** \n",
    "* Question: Given a list of numbers, write a Python function to find the second highest number."
   ]
  },
  {
   "cell_type": "code",
   "execution_count": 38,
   "metadata": {},
   "outputs": [
    {
     "data": {
      "text/plain": [
       "1"
      ]
     },
     "execution_count": 38,
     "metadata": {},
     "output_type": "execute_result"
    }
   ],
   "source": [
    "def second_highest(n):\n",
    "    n.sort()\n",
    "    return n[1]\n",
    "second_highest([1,2,34,3,0])\n",
    "    "
   ]
  },
  {
   "cell_type": "markdown",
   "metadata": {},
   "source": [
    "**8. Factorial using Recursion** \n",
    "* Question: Write a function to compute the factorial of a number using recursion."
   ]
  },
  {
   "cell_type": "code",
   "execution_count": 3,
   "metadata": {},
   "outputs": [
    {
     "name": "stdout",
     "output_type": "stream",
     "text": [
      "5\n",
      "4\n",
      "3\n",
      "2\n",
      "1\n"
     ]
    },
    {
     "data": {
      "text/plain": [
       "120"
      ]
     },
     "execution_count": 3,
     "metadata": {},
     "output_type": "execute_result"
    }
   ],
   "source": [
    "def fact(n):\n",
    "    if n == 0:\n",
    "        return 1\n",
    "    print(n)\n",
    "    return n*fact(n-1)\n",
    "\n",
    "fact(5)"
   ]
  },
  {
   "cell_type": "markdown",
   "metadata": {},
   "source": [
    "**9. Simple pandas functionality: pandas.core.groupby.GroupBy.rank, groupby, values_count uses**\n",
    "\n",
    "**10. Binary search**\n",
    "\n",
    "**11. recursive querying**\n",
    "\n",
    "**11. What is the difference between List and Tuple?**\n",
    "\n",
    "**12. Get Second highest element from an array (duplicates elements are allowed). Required T.C-->O(N) Single traversal. S.C--->O(1)**\n",
    "\n",
    "**13. Implement python Collection Counter from Scratch.**\n",
    "\n",
    "**14. Do Matrix Multiplication.**\n",
    "\n",
    "**15. Implement a Program to check if a number is power of 3.**\n",
    "\n",
    "**16. What is __init__ ? Follow up question why is __ (double underscore) used?**\n",
    "\n",
    "**17. How is memory managed in Python?**\n",
    "\n",
    "**18. A question to count number of times a letter occurs in a sentence and then also find the maximum occurring letter.**\n",
    "\n",
    "**19. Difference between generator and iterator?**\n"
   ]
  },
  {
   "cell_type": "code",
   "execution_count": null,
   "metadata": {},
   "outputs": [],
   "source": []
  },
  {
   "cell_type": "code",
   "execution_count": null,
   "metadata": {},
   "outputs": [],
   "source": []
  },
  {
   "cell_type": "code",
   "execution_count": null,
   "metadata": {},
   "outputs": [],
   "source": []
  },
  {
   "cell_type": "code",
   "execution_count": null,
   "metadata": {},
   "outputs": [],
   "source": []
  },
  {
   "cell_type": "code",
   "execution_count": null,
   "metadata": {},
   "outputs": [],
   "source": []
  }
 ],
 "metadata": {
  "kernelspec": {
   "display_name": "Python 3",
   "language": "python",
   "name": "python3"
  },
  "language_info": {
   "codemirror_mode": {
    "name": "ipython",
    "version": 3
   },
   "file_extension": ".py",
   "mimetype": "text/x-python",
   "name": "python",
   "nbconvert_exporter": "python",
   "pygments_lexer": "ipython3",
   "version": "3.10.5"
  },
  "orig_nbformat": 4
 },
 "nbformat": 4,
 "nbformat_minor": 2
}
