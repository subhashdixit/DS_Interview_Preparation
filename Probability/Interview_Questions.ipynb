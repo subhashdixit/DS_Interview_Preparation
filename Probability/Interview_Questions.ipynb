{
 "cells": [
  {
   "cell_type": "code",
   "execution_count": null,
   "metadata": {},
   "outputs": [],
   "source": []
  },
  {
   "cell_type": "markdown",
   "metadata": {},
   "source": [
    "Probability and its distribution\n",
    "Bayes Theorem\n",
    "Probability 2 RED # Green\n",
    "Exactly 4 once in 7 times of dice thrown\n",
    "A man takes a step forward with probability 0.4 and backward with probability 0.6. The probability that at the end of eleven steps, he is one step away from starting point is _______.\n",
    "What is the probability of getting 5 Sundays in 31 day month.\n",
    "There were 100 coins. 99 Unbiased Coins, 1. Coin is biased. Derive the probability of getting 10 heads given the even of unbiased coins using Bayes Theorem.\n",
    "You are standing in a field. Chances of seeing atleast 1 plane in 10 minutes is 15%. What is the probability of seeing atleast 1 plane in next 30 minutes?\n",
    "If we select a random point in a circle of 1 unit radius what is the probability of appearing that point closer to the circumference , not closer to the centre.\n"
   ]
  }
 ],
 "metadata": {
  "language_info": {
   "name": "python"
  }
 },
 "nbformat": 4,
 "nbformat_minor": 2
}
