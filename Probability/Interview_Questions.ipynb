{
 "cells": [
  {
   "cell_type": "markdown",
   "metadata": {},
   "source": [
    "# **Interview Questions**"
   ]
  },
  {
   "cell_type": "markdown",
   "metadata": {},
   "source": [
    "**1. Probability and its distribution**\n",
    "\n",
    "**2. Bayes Theorem**\n",
    "\n",
    "**3. Probability 2 RED # Green**\n",
    "\n",
    "**4. Exactly 4 once in 7 times of dice thrown**\n",
    "\n",
    "**5. A man takes a step forward with probability 0.4 and backward with probability 0.6. The probability that at the end of eleven steps, he is one step away from starting point is _______.**\n",
    "\n",
    "**6. What is the probability of getting 5 Sundays in 31 day month.**\n",
    "\n",
    "**7. There were 100 coins. 99 Unbiased Coins, 1. Coin is biased. Derive the probability of getting 10 heads given the even of unbiased coins using Bayes Theorem.**\n",
    "\n",
    "**8. You are standing in a field. Chances of seeing atleast 1 plane in 10 minutes is 15%. What is the probability of seeing atleast 1 plane in next 30 minutes?**\n",
    "\n",
    "**9. If we select a random point in a circle of 1 unit radius what is the probability of appearing that point closer to the circumference , not closer to the centre.**\n"
   ]
  },
  {
   "cell_type": "code",
   "execution_count": null,
   "metadata": {},
   "outputs": [],
   "source": []
  }
 ],
 "metadata": {
  "language_info": {
   "name": "python"
  }
 },
 "nbformat": 4,
 "nbformat_minor": 2
}
